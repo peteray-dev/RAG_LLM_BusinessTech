{
  "nbformat": 4,
  "nbformat_minor": 0,
  "metadata": {
    "colab": {
      "provenance": [],
      "machine_shape": "hm",
      "gpuType": "T4",
      "authorship_tag": "ABX9TyOREJfoa3UiJ+pYOt1QAbFN",
      "include_colab_link": true
    },
    "kernelspec": {
      "name": "python3",
      "display_name": "Python 3"
    },
    "language_info": {
      "name": "python"
    },
    "accelerator": "GPU",
    "widgets": {
      "application/vnd.jupyter.widget-state+json": {
        "8128ad02eae5470f88127bbc4364877d": {
          "model_module": "yfiles-jupyter-graphs",
          "model_name": "GraphModel",
          "model_module_version": "^1.10.1",
          "state": {
            "_context_pane_mapping": [
              {
                "id": "Neighborhood",
                "title": "Neighborhood"
              },
              {
                "id": "Data",
                "title": "Data"
              },
              {
                "id": "Search",
                "title": "Search"
              },
              {
                "id": "About",
                "title": "About"
              }
            ],
            "_data_importer": "neo4j",
            "_directed": true,
            "_dom_classes": [],
            "_edges": [
              {
                "id": 1152923703630102500,
                "start": 0,
                "end": 1,
                "properties": {
                  "label": "USED_BY"
                },
                "color": "#2196F3",
                "thickness_factor": 1,
                "directed": true,
                "styles": {},
                "label": "USED_BY"
              },
              {
                "id": 1152924803141730300,
                "start": 0,
                "end": 2,
                "properties": {
                  "label": "USED_FOR"
                },
                "color": "#4CAF50",
                "thickness_factor": 1,
                "directed": true,
                "styles": {},
                "label": "USED_FOR"
              },
              {
                "id": 1155176602955415600,
                "start": 0,
                "end": 3,
                "properties": {
                  "label": "USED_FOR"
                },
                "color": "#4CAF50",
                "thickness_factor": 1,
                "directed": true,
                "styles": {},
                "label": "USED_FOR"
              },
              {
                "id": 1152925902653358000,
                "start": 4,
                "end": 5,
                "properties": {
                  "label": "HANDLES"
                },
                "color": "#F44336",
                "thickness_factor": 1,
                "directed": true,
                "styles": {},
                "label": "HANDLES"
              },
              {
                "id": 1155177702467043300,
                "start": 4,
                "end": 6,
                "properties": {
                  "label": "HANDLES"
                },
                "color": "#F44336",
                "thickness_factor": 1,
                "directed": true,
                "styles": {},
                "label": "HANDLES"
              },
              {
                "id": 1152927002164985900,
                "start": 4,
                "end": 7,
                "properties": {
                  "label": "AIMS_TO_CREATE"
                },
                "color": "#607D8B",
                "thickness_factor": 1,
                "directed": true,
                "styles": {},
                "label": "AIMS_TO_CREATE"
              },
              {
                "id": 1152928101676613600,
                "start": 4,
                "end": 8,
                "properties": {
                  "label": "AIMS_TO_ENABLE"
                },
                "color": "#673AB7",
                "thickness_factor": 1,
                "directed": true,
                "styles": {},
                "label": "AIMS_TO_ENABLE"
              },
              {
                "id": 1153012764071952400,
                "start": 4,
                "end": 9,
                "properties": {
                  "label": "AIMS_TO_PROVIDE"
                },
                "color": "#CDDC39",
                "thickness_factor": 1,
                "directed": true,
                "styles": {},
                "label": "AIMS_TO_PROVIDE"
              },
              {
                "id": 1155264563885637600,
                "start": 4,
                "end": 10,
                "properties": {
                  "label": "AIMS_TO_PROVIDE"
                },
                "color": "#CDDC39",
                "thickness_factor": 1,
                "directed": true,
                "styles": {},
                "label": "AIMS_TO_PROVIDE"
              },
              {
                "id": 1153013863583580200,
                "start": 4,
                "end": 11,
                "properties": {
                  "label": "AIMS_TO_SUPPORT"
                },
                "color": "#9E9E9E",
                "thickness_factor": 1,
                "directed": true,
                "styles": {},
                "label": "AIMS_TO_SUPPORT"
              },
              {
                "id": 1155265663397265400,
                "start": 4,
                "end": 12,
                "properties": {
                  "label": "AIMS_TO_SUPPORT"
                },
                "color": "#9E9E9E",
                "thickness_factor": 1,
                "directed": true,
                "styles": {},
                "label": "AIMS_TO_SUPPORT"
              },
              {
                "id": 1153014963095208000,
                "start": 4,
                "end": 16,
                "properties": {
                  "label": "COMBINES"
                },
                "color": "#9C27B0",
                "thickness_factor": 1,
                "directed": true,
                "styles": {},
                "label": "COMBINES"
              },
              {
                "id": 1152966584583585800,
                "start": 11,
                "end": 15,
                "properties": {
                  "label": "INVOLVES"
                },
                "color": "#2196F3",
                "thickness_factor": 1,
                "directed": true,
                "styles": {},
                "label": "INVOLVES"
              },
              {
                "id": 1152984176769630200,
                "start": 12,
                "end": 13,
                "properties": {
                  "label": "INCLUDES"
                },
                "color": "#4CAF50",
                "thickness_factor": 1,
                "directed": true,
                "styles": {},
                "label": "INCLUDES"
              },
              {
                "id": 1155235976583315500,
                "start": 12,
                "end": 14,
                "properties": {
                  "label": "INCLUDES"
                },
                "color": "#4CAF50",
                "thickness_factor": 1,
                "directed": true,
                "styles": {},
                "label": "INCLUDES"
              },
              {
                "id": 1152984176769630200,
                "start": 16,
                "end": 17,
                "properties": {
                  "label": "INCLUDES"
                },
                "color": "#4CAF50",
                "thickness_factor": 1,
                "directed": true,
                "styles": {},
                "label": "INCLUDES"
              },
              {
                "id": 1155235976583315500,
                "start": 16,
                "end": 18,
                "properties": {
                  "label": "INCLUDES"
                },
                "color": "#4CAF50",
                "thickness_factor": 1,
                "directed": true,
                "styles": {},
                "label": "INCLUDES"
              },
              {
                "id": 1153016062606835700,
                "start": 17,
                "end": 21,
                "properties": {
                  "label": "DERIVED_FROM"
                },
                "color": "#F44336",
                "thickness_factor": 1,
                "directed": true,
                "styles": {},
                "label": "DERIVED_FROM"
              },
              {
                "id": 1153017162118463500,
                "start": 17,
                "end": 18,
                "properties": {
                  "label": "COMBINES_TO_CREATE"
                },
                "color": "#607D8B",
                "thickness_factor": 1,
                "directed": true,
                "styles": {},
                "label": "COMBINES_TO_CREATE"
              },
              {
                "id": 1152933599234752500,
                "start": 18,
                "end": 19,
                "properties": {
                  "label": "CONTRIBUTES_TO"
                },
                "color": "#673AB7",
                "thickness_factor": 1,
                "directed": true,
                "styles": {},
                "label": "CONTRIBUTES_TO"
              },
              {
                "id": 1153016062606835700,
                "start": 18,
                "end": 21,
                "properties": {
                  "label": "DERIVED_FROM"
                },
                "color": "#F44336",
                "thickness_factor": 1,
                "directed": true,
                "styles": {},
                "label": "DERIVED_FROM"
              },
              {
                "id": 1152934698746380300,
                "start": 19,
                "end": 20,
                "properties": {
                  "label": "CREATES"
                },
                "color": "#CDDC39",
                "thickness_factor": 1,
                "directed": true,
                "styles": {},
                "label": "CREATES"
              },
              {
                "id": 1152984176769630200,
                "start": 22,
                "end": 11,
                "properties": {
                  "label": "INCLUDES"
                },
                "color": "#4CAF50",
                "thickness_factor": 1,
                "directed": true,
                "styles": {},
                "label": "INCLUDES"
              },
              {
                "id": 6922095299431236000,
                "start": 22,
                "end": 12,
                "properties": {
                  "label": "INCLUDES"
                },
                "color": "#4CAF50",
                "thickness_factor": 1,
                "directed": true,
                "styles": {},
                "label": "INCLUDES"
              },
              {
                "id": 1152944594351030300,
                "start": 28,
                "end": 29,
                "properties": {
                  "label": "FIRST_KNOWN_USE_OF"
                },
                "color": "#9E9E9E",
                "thickness_factor": 1,
                "directed": true,
                "styles": {},
                "label": "FIRST_KNOWN_USE_OF"
              },
              {
                "id": 1153018261630091300,
                "start": 28,
                "end": 30,
                "properties": {
                  "label": "SOURCE_OF"
                },
                "color": "#9C27B0",
                "thickness_factor": 1,
                "directed": true,
                "styles": {},
                "label": "SOURCE_OF"
              },
              {
                "id": 1152946793374285800,
                "start": 29,
                "end": 31,
                "properties": {
                  "label": "DESCRIBES"
                },
                "color": "#2196F3",
                "thickness_factor": 1,
                "directed": true,
                "styles": {},
                "label": "DESCRIBES"
              },
              {
                "id": 1152952290932424700,
                "start": 33,
                "end": 34,
                "properties": {
                  "label": "ADDED_TO"
                },
                "color": "#4CAF50",
                "thickness_factor": 1,
                "directed": true,
                "styles": {},
                "label": "ADDED_TO"
              },
              {
                "id": 1152945693862658000,
                "start": 34,
                "end": 35,
                "properties": {
                  "label": "MENTIONED_IN"
                },
                "color": "#F44336",
                "thickness_factor": 1,
                "directed": true,
                "styles": {},
                "label": "MENTIONED_IN"
              },
              {
                "id": 1152945693862658000,
                "start": 36,
                "end": 236,
                "properties": {
                  "label": "MENTIONED_IN"
                },
                "color": "#F44336",
                "thickness_factor": 1,
                "directed": true,
                "styles": {},
                "label": "MENTIONED_IN"
              },
              {
                "id": 1152953390444052500,
                "start": 36,
                "end": 37,
                "properties": {
                  "label": "WORKED_AT"
                },
                "color": "#607D8B",
                "thickness_factor": 1,
                "directed": true,
                "styles": {},
                "label": "WORKED_AT"
              },
              {
                "id": 1153019361141719000,
                "start": 37,
                "end": 44,
                "properties": {
                  "label": "DEVELOPED"
                },
                "color": "#673AB7",
                "thickness_factor": 1,
                "directed": true,
                "styles": {},
                "label": "DEVELOPED"
              },
              {
                "id": 1152953390444052500,
                "start": 38,
                "end": 39,
                "properties": {
                  "label": "WORKED_AT"
                },
                "color": "#607D8B",
                "thickness_factor": 1,
                "directed": true,
                "styles": {},
                "label": "WORKED_AT"
              },
              {
                "id": 1152954489955680300,
                "start": 38,
                "end": 236,
                "properties": {
                  "label": "PROPOSED_DEFINITION"
                },
                "color": "#CDDC39",
                "thickness_factor": 1,
                "directed": true,
                "styles": {},
                "label": "PROPOSED_DEFINITION"
              },
              {
                "id": 1152955589467308000,
                "start": 40,
                "end": 236,
                "properties": {
                  "label": "DEFINED_AS"
                },
                "color": "#9E9E9E",
                "thickness_factor": 1,
                "directed": true,
                "styles": {},
                "label": "DEFINED_AS"
              },
              {
                "id": 1152955589467308000,
                "start": 41,
                "end": 236,
                "properties": {
                  "label": "DEFINED_AS"
                },
                "color": "#9E9E9E",
                "thickness_factor": 1,
                "directed": true,
                "styles": {},
                "label": "DEFINED_AS"
              },
              {
                "id": 1152955589467308000,
                "start": 42,
                "end": 236,
                "properties": {
                  "label": "DEFINED_AS"
                },
                "color": "#9E9E9E",
                "thickness_factor": 1,
                "directed": true,
                "styles": {},
                "label": "DEFINED_AS"
              },
              {
                "id": 1166533458558713900,
                "start": 44,
                "end": 23,
                "properties": {
                  "label": "BELONGS_TO_CATEGORY"
                },
                "color": "#9C27B0",
                "thickness_factor": 1,
                "directed": true,
                "styles": {},
                "label": "BELONGS_TO_CATEGORY"
              },
              {
                "id": 1153022659676602400,
                "start": 44,
                "end": 52,
                "properties": {
                  "label": "BELONGS_TO_CATEGORY"
                },
                "color": "#9C27B0",
                "thickness_factor": 1,
                "directed": true,
                "styles": {},
                "label": "BELONGS_TO_CATEGORY"
              },
              {
                "id": 1155274459490287600,
                "start": 44,
                "end": 53,
                "properties": {
                  "label": "BELONGS_TO_CATEGORY"
                },
                "color": "#9C27B0",
                "thickness_factor": 1,
                "directed": true,
                "styles": {},
                "label": "BELONGS_TO_CATEGORY"
              },
              {
                "id": 1157526259303972900,
                "start": 44,
                "end": 54,
                "properties": {
                  "label": "BELONGS_TO_CATEGORY"
                },
                "color": "#9C27B0",
                "thickness_factor": 1,
                "directed": true,
                "styles": {},
                "label": "BELONGS_TO_CATEGORY"
              },
              {
                "id": 1159778059117658000,
                "start": 44,
                "end": 55,
                "properties": {
                  "label": "BELONGS_TO_CATEGORY"
                },
                "color": "#9C27B0",
                "thickness_factor": 1,
                "directed": true,
                "styles": {},
                "label": "BELONGS_TO_CATEGORY"
              },
              {
                "id": 1162029858931343400,
                "start": 44,
                "end": 56,
                "properties": {
                  "label": "BELONGS_TO_CATEGORY"
                },
                "color": "#9C27B0",
                "thickness_factor": 1,
                "directed": true,
                "styles": {},
                "label": "BELONGS_TO_CATEGORY"
              },
              {
                "id": 1164281658745028600,
                "start": 44,
                "end": 57,
                "properties": {
                  "label": "BELONGS_TO_CATEGORY"
                },
                "color": "#9C27B0",
                "thickness_factor": 1,
                "directed": true,
                "styles": {},
                "label": "BELONGS_TO_CATEGORY"
              },
              {
                "id": 1168785258372399000,
                "start": 44,
                "end": 58,
                "properties": {
                  "label": "BELONGS_TO_CATEGORY"
                },
                "color": "#9C27B0",
                "thickness_factor": 1,
                "directed": true,
                "styles": {},
                "label": "BELONGS_TO_CATEGORY"
              },
              {
                "id": 1171037058186084400,
                "start": 44,
                "end": 59,
                "properties": {
                  "label": "BELONGS_TO_CATEGORY"
                },
                "color": "#9C27B0",
                "thickness_factor": 1,
                "directed": true,
                "styles": {},
                "label": "BELONGS_TO_CATEGORY"
              },
              {
                "id": 1173288857999769600,
                "start": 44,
                "end": 60,
                "properties": {
                  "label": "BELONGS_TO_CATEGORY"
                },
                "color": "#9C27B0",
                "thickness_factor": 1,
                "directed": true,
                "styles": {},
                "label": "BELONGS_TO_CATEGORY"
              },
              {
                "id": 1175540657813454800,
                "start": 44,
                "end": 61,
                "properties": {
                  "label": "BELONGS_TO_CATEGORY"
                },
                "color": "#9C27B0",
                "thickness_factor": 1,
                "directed": true,
                "styles": {},
                "label": "BELONGS_TO_CATEGORY"
              },
              {
                "id": 1177792457627140000,
                "start": 44,
                "end": 62,
                "properties": {
                  "label": "BELONGS_TO_CATEGORY"
                },
                "color": "#9C27B0",
                "thickness_factor": 1,
                "directed": true,
                "styles": {},
                "label": "BELONGS_TO_CATEGORY"
              },
              {
                "id": 1153019361141719000,
                "start": 45,
                "end": 44,
                "properties": {
                  "label": "DEVELOPED"
                },
                "color": "#673AB7",
                "thickness_factor": 1,
                "directed": true,
                "styles": {},
                "label": "DEVELOPED"
              }
            ],
            "_graph_layout": {},
            "_highlight": [],
            "_license": {},
            "_model_module": "yfiles-jupyter-graphs",
            "_model_module_version": "^1.10.1",
            "_model_name": "GraphModel",
            "_neighborhood": {},
            "_nodes": [
              {
                "id": 0,
                "properties": {
                  "id": "Bi Technologies",
                  "label": "Concept:__Entity__"
                },
                "color": "#2196F3",
                "styles": {},
                "label": "Bi Technologies",
                "scale_factor": 1,
                "type": "#2196F3",
                "size": [
                  55,
                  55
                ],
                "position": [
                  0,
                  0
                ]
              },
              {
                "id": 1,
                "properties": {
                  "id": "Enterprises",
                  "label": "Organization:__Entity__"
                },
                "color": "#4CAF50",
                "styles": {},
                "label": "Enterprises",
                "scale_factor": 1,
                "type": "#4CAF50",
                "size": [
                  55,
                  55
                ],
                "position": [
                  0,
                  0
                ]
              },
              {
                "id": 2,
                "properties": {
                  "id": "Data Analysis",
                  "label": "Concept:__Entity__"
                },
                "color": "#2196F3",
                "styles": {},
                "label": "Data Analysis",
                "scale_factor": 1,
                "type": "#2196F3",
                "size": [
                  55,
                  55
                ],
                "position": [
                  0,
                  0
                ]
              },
              {
                "id": 3,
                "properties": {
                  "id": "Management Of Business Information",
                  "label": "Concept:__Entity__"
                },
                "color": "#2196F3",
                "styles": {},
                "label": "Management Of Business Information",
                "scale_factor": 1,
                "type": "#2196F3",
                "size": [
                  55,
                  55
                ],
                "position": [
                  0,
                  0
                ]
              },
              {
                "id": 4,
                "properties": {
                  "id": "Bi Tools",
                  "label": "Concept:__Entity__"
                },
                "color": "#2196F3",
                "styles": {},
                "label": "Bi Tools",
                "scale_factor": 1,
                "type": "#2196F3",
                "size": [
                  55,
                  55
                ],
                "position": [
                  0,
                  0
                ]
              },
              {
                "id": 5,
                "properties": {
                  "id": "Structured Data",
                  "label": "Concept:__Entity__"
                },
                "color": "#2196F3",
                "styles": {},
                "label": "Structured Data",
                "scale_factor": 1,
                "type": "#2196F3",
                "size": [
                  55,
                  55
                ],
                "position": [
                  0,
                  0
                ]
              },
              {
                "id": 6,
                "properties": {
                  "id": "Unstructured Data",
                  "label": "Concept:__Entity__"
                },
                "color": "#2196F3",
                "styles": {},
                "label": "Unstructured Data",
                "scale_factor": 1,
                "type": "#2196F3",
                "size": [
                  55,
                  55
                ],
                "position": [
                  0,
                  0
                ]
              },
              {
                "id": 7,
                "properties": {
                  "id": "New Strategic Business Opportunities",
                  "label": "Concept:__Entity__"
                },
                "color": "#2196F3",
                "styles": {},
                "label": "New Strategic Business Opportunities",
                "scale_factor": 1,
                "type": "#2196F3",
                "size": [
                  55,
                  55
                ],
                "position": [
                  0,
                  0
                ]
              },
              {
                "id": 8,
                "properties": {
                  "id": "Interpretation Of Big Data",
                  "label": "Concept:__Entity__"
                },
                "color": "#2196F3",
                "styles": {},
                "label": "Interpretation Of Big Data",
                "scale_factor": 1,
                "type": "#2196F3",
                "size": [
                  55,
                  55
                ],
                "position": [
                  0,
                  0
                ]
              },
              {
                "id": 9,
                "properties": {
                  "id": "Competitive Market Advantage",
                  "label": "Concept:__Entity__"
                },
                "color": "#2196F3",
                "styles": {},
                "label": "Competitive Market Advantage",
                "scale_factor": 1,
                "type": "#2196F3",
                "size": [
                  55,
                  55
                ],
                "position": [
                  0,
                  0
                ]
              },
              {
                "id": 10,
                "properties": {
                  "id": "Long-Term Stability",
                  "label": "Concept:__Entity__"
                },
                "color": "#2196F3",
                "styles": {},
                "label": "Long-Term Stability",
                "scale_factor": 1,
                "type": "#2196F3",
                "size": [
                  55,
                  55
                ],
                "position": [
                  0,
                  0
                ]
              },
              {
                "id": 11,
                "properties": {
                  "id": "Strategic Decisions",
                  "label": "Concept:__Entity__"
                },
                "color": "#2196F3",
                "styles": {},
                "label": "Strategic Decisions",
                "scale_factor": 1,
                "type": "#2196F3",
                "size": [
                  55,
                  55
                ],
                "position": [
                  0,
                  0
                ]
              },
              {
                "id": 12,
                "properties": {
                  "id": "Operational Decisions",
                  "label": "Concept:__Entity__"
                },
                "color": "#2196F3",
                "styles": {},
                "label": "Operational Decisions",
                "scale_factor": 1,
                "type": "#2196F3",
                "size": [
                  55,
                  55
                ],
                "position": [
                  0,
                  0
                ]
              },
              {
                "id": 16,
                "properties": {
                  "id": "Data Sources",
                  "label": "Concept:__Entity__"
                },
                "color": "#2196F3",
                "styles": {},
                "label": "Data Sources",
                "scale_factor": 1,
                "type": "#2196F3",
                "size": [
                  55,
                  55
                ],
                "position": [
                  0,
                  0
                ]
              },
              {
                "id": 15,
                "properties": {
                  "id": "Goals",
                  "label": "Concept:__Entity__"
                },
                "color": "#2196F3",
                "styles": {},
                "label": "Goals",
                "scale_factor": 1,
                "type": "#2196F3",
                "size": [
                  55,
                  55
                ],
                "position": [
                  0,
                  0
                ]
              },
              {
                "id": 13,
                "properties": {
                  "id": "Product Positioning",
                  "label": "Concept:__Entity__"
                },
                "color": "#2196F3",
                "styles": {},
                "label": "Product Positioning",
                "scale_factor": 1,
                "type": "#2196F3",
                "size": [
                  55,
                  55
                ],
                "position": [
                  0,
                  0
                ]
              },
              {
                "id": 14,
                "properties": {
                  "id": "Pricing",
                  "label": "Concept:__Entity__"
                },
                "color": "#2196F3",
                "styles": {},
                "label": "Pricing",
                "scale_factor": 1,
                "type": "#2196F3",
                "size": [
                  55,
                  55
                ],
                "position": [
                  0,
                  0
                ]
              },
              {
                "id": 17,
                "properties": {
                  "id": "External Data",
                  "label": "Concept:__Entity__"
                },
                "color": "#2196F3",
                "styles": {},
                "label": "External Data",
                "scale_factor": 1,
                "type": "#2196F3",
                "size": [
                  55,
                  55
                ],
                "position": [
                  0,
                  0
                ]
              },
              {
                "id": 18,
                "properties": {
                  "id": "Internal Data",
                  "label": "Concept:__Entity__"
                },
                "color": "#2196F3",
                "styles": {},
                "label": "Internal Data",
                "scale_factor": 1,
                "type": "#2196F3",
                "size": [
                  55,
                  55
                ],
                "position": [
                  0,
                  0
                ]
              },
              {
                "id": 21,
                "properties": {
                  "id": "Market Data",
                  "label": "Concept:__Entity__"
                },
                "color": "#2196F3",
                "styles": {},
                "label": "Market Data",
                "scale_factor": 1,
                "type": "#2196F3",
                "size": [
                  55,
                  55
                ],
                "position": [
                  0,
                  0
                ]
              },
              {
                "id": 19,
                "properties": {
                  "id": "Complete Picture",
                  "label": "Concept:__Entity__"
                },
                "color": "#2196F3",
                "styles": {},
                "label": "Complete Picture",
                "scale_factor": 1,
                "type": "#2196F3",
                "size": [
                  55,
                  55
                ],
                "position": [
                  0,
                  0
                ]
              },
              {
                "id": 20,
                "properties": {
                  "id": "Intelligence",
                  "label": "Concept:__Entity__"
                },
                "color": "#2196F3",
                "styles": {},
                "label": "Intelligence",
                "scale_factor": 1,
                "type": "#2196F3",
                "size": [
                  55,
                  55
                ],
                "position": [
                  0,
                  0
                ]
              },
              {
                "id": 22,
                "properties": {
                  "id": "Business Decisions",
                  "label": "Concept:__Entity__"
                },
                "color": "#2196F3",
                "styles": {},
                "label": "Business Decisions",
                "scale_factor": 1,
                "type": "#2196F3",
                "size": [
                  55,
                  55
                ],
                "position": [
                  0,
                  0
                ]
              },
              {
                "id": 28,
                "properties": {
                  "id": "History",
                  "label": "Concept:__Entity__"
                },
                "color": "#2196F3",
                "styles": {},
                "label": "History",
                "scale_factor": 1,
                "type": "#2196F3",
                "size": [
                  55,
                  55
                ],
                "position": [
                  0,
                  0
                ]
              },
              {
                "id": 29,
                "properties": {
                  "id": "Richard Millar Devens",
                  "label": "Person:__Entity__"
                },
                "color": "#F44336",
                "styles": {},
                "label": "Richard Millar Devens",
                "scale_factor": 1,
                "type": "#F44336",
                "size": [
                  55,
                  55
                ],
                "position": [
                  0,
                  0
                ]
              },
              {
                "id": 30,
                "properties": {
                  "id": "Cyclopædia Of Commercial And Business Anecdotes",
                  "label": "Concept:__Entity__"
                },
                "color": "#2196F3",
                "styles": {},
                "label": "Cyclopædia Of Commercial And Business Anecdotes",
                "scale_factor": 1,
                "type": "#2196F3",
                "size": [
                  55,
                  55
                ],
                "position": [
                  0,
                  0
                ]
              },
              {
                "id": 31,
                "properties": {
                  "id": "Sir Henry Furnese",
                  "label": "Person:__Entity__"
                },
                "color": "#F44336",
                "styles": {},
                "label": "Sir Henry Furnese",
                "scale_factor": 1,
                "type": "#F44336",
                "size": [
                  55,
                  55
                ],
                "position": [
                  0,
                  0
                ]
              },
              {
                "id": 33,
                "properties": {
                  "id": "Namur",
                  "label": "Location:__Entity__"
                },
                "color": "#607D8B",
                "styles": {},
                "label": "Namur",
                "scale_factor": 1,
                "type": "#607D8B",
                "size": [
                  55,
                  55
                ],
                "position": [
                  0,
                  0
                ]
              },
              {
                "id": 34,
                "properties": {
                  "id": "Profits",
                  "label": "Concept:__Entity__"
                },
                "color": "#2196F3",
                "styles": {},
                "label": "Profits",
                "scale_factor": 1,
                "type": "#2196F3",
                "size": [
                  55,
                  55
                ],
                "position": [
                  0,
                  0
                ]
              },
              {
                "id": 35,
                "properties": {
                  "id": "Devens",
                  "label": "Person:__Entity__"
                },
                "color": "#F44336",
                "styles": {},
                "label": "Devens",
                "scale_factor": 1,
                "type": "#F44336",
                "size": [
                  55,
                  55
                ],
                "position": [
                  0,
                  0
                ]
              },
              {
                "id": 36,
                "properties": {
                  "id": "Hans Peter Luhn",
                  "label": "Person:__Entity__"
                },
                "color": "#F44336",
                "styles": {},
                "label": "Hans Peter Luhn",
                "scale_factor": 1,
                "type": "#F44336",
                "size": [
                  55,
                  55
                ],
                "position": [
                  0,
                  0
                ]
              },
              {
                "id": 236,
                "properties": {
                  "id": "Business Intelligence",
                  "label": "Concept:__Entity__"
                },
                "color": "#2196F3",
                "styles": {},
                "label": "Business Intelligence",
                "scale_factor": 1,
                "type": "#2196F3",
                "size": [
                  55,
                  55
                ],
                "position": [
                  0,
                  0
                ]
              },
              {
                "id": 37,
                "properties": {
                  "id": "Ibm",
                  "label": "Company:Organization:__Entity__"
                },
                "color": "#673AB7",
                "styles": {},
                "label": "Ibm",
                "scale_factor": 1,
                "type": "#673AB7",
                "size": [
                  55,
                  55
                ],
                "position": [
                  0,
                  0
                ]
              },
              {
                "id": 44,
                "properties": {
                  "id": "Business Intelligence Software",
                  "label": "Software:__Entity__"
                },
                "color": "#CDDC39",
                "styles": {},
                "label": "Business Intelligence Software",
                "scale_factor": 1,
                "type": "#CDDC39",
                "size": [
                  55,
                  55
                ],
                "position": [
                  0,
                  0
                ]
              },
              {
                "id": 38,
                "properties": {
                  "id": "Howard Dresner",
                  "label": "Person:__Entity__"
                },
                "color": "#F44336",
                "styles": {},
                "label": "Howard Dresner",
                "scale_factor": 1,
                "type": "#F44336",
                "size": [
                  55,
                  55
                ],
                "position": [
                  0,
                  0
                ]
              },
              {
                "id": 39,
                "properties": {
                  "id": "Gartner",
                  "label": "Organization:__Entity__"
                },
                "color": "#4CAF50",
                "styles": {},
                "label": "Gartner",
                "scale_factor": 1,
                "type": "#4CAF50",
                "size": [
                  55,
                  55
                ],
                "position": [
                  0,
                  0
                ]
              },
              {
                "id": 40,
                "properties": {
                  "id": "Solomon Negash",
                  "label": "Person:__Entity__"
                },
                "color": "#F44336",
                "styles": {},
                "label": "Solomon Negash",
                "scale_factor": 1,
                "type": "#F44336",
                "size": [
                  55,
                  55
                ],
                "position": [
                  0,
                  0
                ]
              },
              {
                "id": 41,
                "properties": {
                  "id": "Paul Gray",
                  "label": "Person:__Entity__"
                },
                "color": "#F44336",
                "styles": {},
                "label": "Paul Gray",
                "scale_factor": 1,
                "type": "#F44336",
                "size": [
                  55,
                  55
                ],
                "position": [
                  0,
                  0
                ]
              },
              {
                "id": 42,
                "properties": {
                  "id": "Forrester Research",
                  "label": "Organization:__Entity__"
                },
                "color": "#4CAF50",
                "styles": {},
                "label": "Forrester Research",
                "scale_factor": 1,
                "type": "#4CAF50",
                "size": [
                  55,
                  55
                ],
                "position": [
                  0,
                  0
                ]
              },
              {
                "id": 23,
                "properties": {
                  "id": "Data Warehouse",
                  "label": "Software:Concept:__Entity__"
                },
                "color": "#9E9E9E",
                "styles": {},
                "label": "Data Warehouse",
                "scale_factor": 1,
                "type": "#9E9E9E",
                "size": [
                  55,
                  55
                ],
                "position": [
                  0,
                  0
                ]
              },
              {
                "id": 52,
                "properties": {
                  "id": "Spreadsheets",
                  "label": "Software:__Entity__"
                },
                "color": "#CDDC39",
                "styles": {},
                "label": "Spreadsheets",
                "scale_factor": 1,
                "type": "#CDDC39",
                "size": [
                  55,
                  55
                ],
                "position": [
                  0,
                  0
                ]
              },
              {
                "id": 53,
                "properties": {
                  "id": "Reporting And Querying Software",
                  "label": "Software:__Entity__"
                },
                "color": "#CDDC39",
                "styles": {},
                "label": "Reporting And Querying Software",
                "scale_factor": 1,
                "type": "#CDDC39",
                "size": [
                  55,
                  55
                ],
                "position": [
                  0,
                  0
                ]
              },
              {
                "id": 54,
                "properties": {
                  "id": "Online Analytical Processing (Olap)",
                  "label": "Software:__Entity__"
                },
                "color": "#CDDC39",
                "styles": {},
                "label": "Online Analytical Processing (Olap)",
                "scale_factor": 1,
                "type": "#CDDC39",
                "size": [
                  55,
                  55
                ],
                "position": [
                  0,
                  0
                ]
              },
              {
                "id": 55,
                "properties": {
                  "id": "Digital Dashboards",
                  "label": "Software:__Entity__"
                },
                "color": "#CDDC39",
                "styles": {},
                "label": "Digital Dashboards",
                "scale_factor": 1,
                "type": "#CDDC39",
                "size": [
                  55,
                  55
                ],
                "position": [
                  0,
                  0
                ]
              },
              {
                "id": 56,
                "properties": {
                  "id": "Data Mining",
                  "label": "Software:__Entity__"
                },
                "color": "#CDDC39",
                "styles": {},
                "label": "Data Mining",
                "scale_factor": 1,
                "type": "#CDDC39",
                "size": [
                  55,
                  55
                ],
                "position": [
                  0,
                  0
                ]
              },
              {
                "id": 57,
                "properties": {
                  "id": "Business Activity Monitoring",
                  "label": "Software:__Entity__"
                },
                "color": "#CDDC39",
                "styles": {},
                "label": "Business Activity Monitoring",
                "scale_factor": 1,
                "type": "#CDDC39",
                "size": [
                  55,
                  55
                ],
                "position": [
                  0,
                  0
                ]
              },
              {
                "id": 58,
                "properties": {
                  "id": "Local Information Systems",
                  "label": "Software:__Entity__"
                },
                "color": "#CDDC39",
                "styles": {},
                "label": "Local Information Systems",
                "scale_factor": 1,
                "type": "#CDDC39",
                "size": [
                  55,
                  55
                ],
                "position": [
                  0,
                  0
                ]
              },
              {
                "id": 59,
                "properties": {
                  "id": "Data Cleansing",
                  "label": "Software:__Entity__"
                },
                "color": "#CDDC39",
                "styles": {},
                "label": "Data Cleansing",
                "scale_factor": 1,
                "type": "#CDDC39",
                "size": [
                  55,
                  55
                ],
                "position": [
                  0,
                  0
                ]
              },
              {
                "id": 60,
                "properties": {
                  "id": "Enterprise Resource Planning Systems",
                  "label": "Software:__Entity__"
                },
                "color": "#CDDC39",
                "styles": {},
                "label": "Enterprise Resource Planning Systems",
                "scale_factor": 1,
                "type": "#CDDC39",
                "size": [
                  55,
                  55
                ],
                "position": [
                  0,
                  0
                ]
              },
              {
                "id": 61,
                "properties": {
                  "id": "Application Programming Interfaces",
                  "label": "Software:__Entity__"
                },
                "color": "#CDDC39",
                "styles": {},
                "label": "Application Programming Interfaces",
                "scale_factor": 1,
                "type": "#CDDC39",
                "size": [
                  55,
                  55
                ],
                "position": [
                  0,
                  0
                ]
              },
              {
                "id": 62,
                "properties": {
                  "id": "Data Warehouse Appliances",
                  "label": "Software:__Entity__"
                },
                "color": "#CDDC39",
                "styles": {},
                "label": "Data Warehouse Appliances",
                "scale_factor": 1,
                "type": "#CDDC39",
                "size": [
                  55,
                  55
                ],
                "position": [
                  0,
                  0
                ]
              },
              {
                "id": 45,
                "properties": {
                  "id": "Siebel",
                  "label": "Company:__Entity__"
                },
                "color": "#9C27B0",
                "styles": {},
                "label": "Siebel",
                "scale_factor": 1,
                "type": "#9C27B0",
                "size": [
                  55,
                  55
                ],
                "position": [
                  0,
                  0
                ]
              }
            ],
            "_overview": {
              "enabled": null,
              "overview_set": false
            },
            "_selected_graph": [
              [],
              []
            ],
            "_sidebar": {
              "enabled": false,
              "start_with": null
            },
            "_view_count": null,
            "_view_module": "yfiles-jupyter-graphs",
            "_view_module_version": "^1.10.1",
            "_view_name": "GraphView",
            "layout": "IPY_MODEL_c3ded9b0c6b044c7a8605beb307029a1",
            "tabbable": null,
            "tooltip": null
          }
        },
        "c3ded9b0c6b044c7a8605beb307029a1": {
          "model_module": "@jupyter-widgets/base",
          "model_name": "LayoutModel",
          "model_module_version": "2.0.0",
          "state": {
            "_model_module": "@jupyter-widgets/base",
            "_model_module_version": "2.0.0",
            "_model_name": "LayoutModel",
            "_view_count": null,
            "_view_module": "@jupyter-widgets/base",
            "_view_module_version": "2.0.0",
            "_view_name": "LayoutView",
            "align_content": null,
            "align_items": null,
            "align_self": null,
            "border_bottom": null,
            "border_left": null,
            "border_right": null,
            "border_top": null,
            "bottom": null,
            "display": null,
            "flex": null,
            "flex_flow": null,
            "grid_area": null,
            "grid_auto_columns": null,
            "grid_auto_flow": null,
            "grid_auto_rows": null,
            "grid_column": null,
            "grid_gap": null,
            "grid_row": null,
            "grid_template_areas": null,
            "grid_template_columns": null,
            "grid_template_rows": null,
            "height": "800px",
            "justify_content": null,
            "justify_items": null,
            "left": null,
            "margin": null,
            "max_height": null,
            "max_width": null,
            "min_height": null,
            "min_width": null,
            "object_fit": null,
            "object_position": null,
            "order": null,
            "overflow": null,
            "padding": null,
            "right": null,
            "top": null,
            "visibility": null,
            "width": "100%"
          }
        }
      }
    }
  },
  "cells": [
    {
      "cell_type": "markdown",
      "metadata": {
        "id": "view-in-github",
        "colab_type": "text"
      },
      "source": [
        "<a href=\"https://colab.research.google.com/github/peteray-dev/RAG_LLM_BusinessTech/blob/master/RAG_with_Neo4j.ipynb\" target=\"_parent\"><img src=\"https://colab.research.google.com/assets/colab-badge.svg\" alt=\"Open In Colab\"/></a>"
      ]
    },
    {
      "cell_type": "code",
      "execution_count": 1,
      "metadata": {
        "colab": {
          "base_uri": "https://localhost:8080/"
        },
        "id": "Cm2Srvyir4z4",
        "outputId": "3001a986-9d6f-433e-9eef-e7b2d422f0e2"
      },
      "outputs": [
        {
          "output_type": "stream",
          "name": "stdout",
          "text": [
            "Fri Jan 31 22:57:19 2025       \n",
            "+-----------------------------------------------------------------------------------------+\n",
            "| NVIDIA-SMI 550.54.15              Driver Version: 550.54.15      CUDA Version: 12.4     |\n",
            "|-----------------------------------------+------------------------+----------------------+\n",
            "| GPU  Name                 Persistence-M | Bus-Id          Disp.A | Volatile Uncorr. ECC |\n",
            "| Fan  Temp   Perf          Pwr:Usage/Cap |           Memory-Usage | GPU-Util  Compute M. |\n",
            "|                                         |                        |               MIG M. |\n",
            "|=========================================+========================+======================|\n",
            "|   0  Tesla T4                       Off |   00000000:00:04.0 Off |                    0 |\n",
            "| N/A   41C    P8              9W /   70W |       0MiB /  15360MiB |      0%      Default |\n",
            "|                                         |                        |                  N/A |\n",
            "+-----------------------------------------+------------------------+----------------------+\n",
            "                                                                                         \n",
            "+-----------------------------------------------------------------------------------------+\n",
            "| Processes:                                                                              |\n",
            "|  GPU   GI   CI        PID   Type   Process name                              GPU Memory |\n",
            "|        ID   ID                                                               Usage      |\n",
            "|=========================================================================================|\n",
            "|  No running processes found                                                             |\n",
            "+-----------------------------------------------------------------------------------------+\n"
          ]
        }
      ],
      "source": [
        "!nvidia-smi\n"
      ]
    },
    {
      "cell_type": "code",
      "source": [
        "!pip install --upgrade -q langchain langchain-community langchain-openai langchain-experimental neo4j wikipedia tiktoken yfiles_jupyter_graphs"
      ],
      "metadata": {
        "colab": {
          "base_uri": "https://localhost:8080/"
        },
        "id": "4tlziynvsuoi",
        "outputId": "a29eb3ca-5921-4cd2-cb60-93d8a6f1f747"
      },
      "execution_count": 2,
      "outputs": [
        {
          "output_type": "stream",
          "name": "stdout",
          "text": [
            "  Preparing metadata (setup.py) ... \u001b[?25l\u001b[?25hdone\n",
            "\u001b[2K   \u001b[90m━━━━━━━━━━━━━━━━━━━━━━━━━━━━━━━━━━━━━━━━\u001b[0m \u001b[32m1.0/1.0 MB\u001b[0m \u001b[31m16.8 MB/s\u001b[0m eta \u001b[36m0:00:00\u001b[0m\n",
            "\u001b[2K   \u001b[90m━━━━━━━━━━━━━━━━━━━━━━━━━━━━━━━━━━━━━━━━\u001b[0m \u001b[32m2.5/2.5 MB\u001b[0m \u001b[31m79.4 MB/s\u001b[0m eta \u001b[36m0:00:00\u001b[0m\n",
            "\u001b[2K   \u001b[90m━━━━━━━━━━━━━━━━━━━━━━━━━━━━━━━━━━━━━━━━\u001b[0m \u001b[32m54.5/54.5 kB\u001b[0m \u001b[31m5.9 MB/s\u001b[0m eta \u001b[36m0:00:00\u001b[0m\n",
            "\u001b[2K   \u001b[90m━━━━━━━━━━━━━━━━━━━━━━━━━━━━━━━━━━━━━━━━\u001b[0m \u001b[32m209.2/209.2 kB\u001b[0m \u001b[31m23.3 MB/s\u001b[0m eta \u001b[36m0:00:00\u001b[0m\n",
            "\u001b[2K   \u001b[90m━━━━━━━━━━━━━━━━━━━━━━━━━━━━━━━━━━━━━━━━\u001b[0m \u001b[32m301.7/301.7 kB\u001b[0m \u001b[31m32.3 MB/s\u001b[0m eta \u001b[36m0:00:00\u001b[0m\n",
            "\u001b[2K   \u001b[90m━━━━━━━━━━━━━━━━━━━━━━━━━━━━━━━━━━━━━━━━\u001b[0m \u001b[32m1.2/1.2 MB\u001b[0m \u001b[31m76.1 MB/s\u001b[0m eta \u001b[36m0:00:00\u001b[0m\n",
            "\u001b[2K   \u001b[90m━━━━━━━━━━━━━━━━━━━━━━━━━━━━━━━━━━━━━━━━\u001b[0m \u001b[32m15.6/15.6 MB\u001b[0m \u001b[31m31.3 MB/s\u001b[0m eta \u001b[36m0:00:00\u001b[0m\n",
            "\u001b[2K   \u001b[90m━━━━━━━━━━━━━━━━━━━━━━━━━━━━━━━━━━━━━━━━\u001b[0m \u001b[32m139.8/139.8 kB\u001b[0m \u001b[31m16.8 MB/s\u001b[0m eta \u001b[36m0:00:00\u001b[0m\n",
            "\u001b[2K   \u001b[90m━━━━━━━━━━━━━━━━━━━━━━━━━━━━━━━━━━━━━━━━\u001b[0m \u001b[32m412.7/412.7 kB\u001b[0m \u001b[31m39.0 MB/s\u001b[0m eta \u001b[36m0:00:00\u001b[0m\n",
            "\u001b[2K   \u001b[90m━━━━━━━━━━━━━━━━━━━━━━━━━━━━━━━━━━━━━━━━\u001b[0m \u001b[32m460.6/460.6 kB\u001b[0m \u001b[31m40.8 MB/s\u001b[0m eta \u001b[36m0:00:00\u001b[0m\n",
            "\u001b[2K   \u001b[90m━━━━━━━━━━━━━━━━━━━━━━━━━━━━━━━━━━━━━━━━\u001b[0m \u001b[32m50.8/50.8 kB\u001b[0m \u001b[31m5.9 MB/s\u001b[0m eta \u001b[36m0:00:00\u001b[0m\n",
            "\u001b[2K   \u001b[90m━━━━━━━━━━━━━━━━━━━━━━━━━━━━━━━━━━━━━━━━\u001b[0m \u001b[32m2.3/2.3 MB\u001b[0m \u001b[31m94.5 MB/s\u001b[0m eta \u001b[36m0:00:00\u001b[0m\n",
            "\u001b[2K   \u001b[90m━━━━━━━━━━━━━━━━━━━━━━━━━━━━━━━━━━━━━━━━\u001b[0m \u001b[32m1.6/1.6 MB\u001b[0m \u001b[31m83.8 MB/s\u001b[0m eta \u001b[36m0:00:00\u001b[0m\n",
            "\u001b[?25h  Building wheel for wikipedia (setup.py) ... \u001b[?25l\u001b[?25hdone\n"
          ]
        }
      ]
    },
    {
      "cell_type": "code",
      "source": [
        "from langchain_core.runnables import (\n",
        "    RunnableBranch,\n",
        "    RunnableLambda, RunnableParallel,\n",
        "    RunnablePassthrough\n",
        "    )"
      ],
      "metadata": {
        "id": "K7cjMjjf1L3y"
      },
      "execution_count": 3,
      "outputs": []
    },
    {
      "cell_type": "code",
      "source": [
        "from langchain_core.prompts import ChatPromptTemplate\n",
        "from langchain_core.prompts.prompt import PromptTemplate"
      ],
      "metadata": {
        "id": "BeVfdcWC1wj4"
      },
      "execution_count": 4,
      "outputs": []
    },
    {
      "cell_type": "code",
      "source": [
        "from google.colab import userdata\n",
        "OPENAI_API_KEY = userdata.get('OPEN_API_KEY')\n",
        "\n",
        "# NEO4J_URI = userdata.get('NEO4J_URI')\n",
        "# NEO4J_USERNAME = userdata.get('NEO4J_USERNAME')\n",
        "# NEO4J_PASSWORD = userdata.get('NEO4J_PASSWORD"
      ],
      "metadata": {
        "id": "Cicpnq1j3uO7"
      },
      "execution_count": 5,
      "outputs": []
    },
    {
      "cell_type": "code",
      "source": [
        "from  typing import Tuple, List, Optional"
      ],
      "metadata": {
        "id": "mk2hotnr39SQ"
      },
      "execution_count": 6,
      "outputs": []
    },
    {
      "cell_type": "code",
      "source": [
        "from langchain_core.messages import AIMessage, HumanMessage, SystemMessage\n",
        "from langchain_core.output_parsers import StrOutputParser\n",
        "from langchain_core.runnables import ConfigurableField\n",
        "from yfiles_jupyter_graphs import GraphWidget\n",
        "from neo4j import GraphDatabase\n",
        "import os"
      ],
      "metadata": {
        "id": "3PXjG8VD5JGV"
      },
      "execution_count": 7,
      "outputs": []
    },
    {
      "cell_type": "code",
      "source": [
        "try:\n",
        "  import google.colab\n",
        "  from google.colab import output\n",
        "  output.enable_custom_widget_manager()\n",
        "except:\n",
        "  pass"
      ],
      "metadata": {
        "id": "Klfxr1Qi5XSw"
      },
      "execution_count": 8,
      "outputs": []
    },
    {
      "cell_type": "code",
      "source": [
        "from langchain_community.vectorstores import Neo4jVector\n",
        "# from langchain_community.graphs import Neo4j"
      ],
      "metadata": {
        "id": "65Ynryb_5ijr"
      },
      "execution_count": 9,
      "outputs": []
    },
    {
      "cell_type": "code",
      "source": [
        "# NEO4J_URI = \"neo4j+s://221fcc54.databases.neo4j.io\"\n",
        "# NEO4J_USERNAME = \"neo4j\"\n",
        "# NEO4J_PASSWORD = \"ROTiS8erhHl2PlYpagHH1oWvsx91H5VGdQBfe_y2k60\"\n",
        "\n",
        "NEO4J_URI = userdata.get('NEO4J_URI')\n",
        "NEO4J_USERNAME = userdata.get('NEO4J_USERNAME')\n",
        "NEO4J_PASSWORD = userdata.get('NEO4J_PASSWORD')"
      ],
      "metadata": {
        "id": "UI5aUkop5vf5"
      },
      "execution_count": 54,
      "outputs": []
    },
    {
      "cell_type": "code",
      "source": [
        "os.environ[\"NEO4J_URI\"] = NEO4J_URI\n",
        "os.environ[\"NEO4J_USERNAME\"] = NEO4J_USERNAME\n",
        "os.environ[\"NEO4J_PASSWORD\"] = NEO4J_PASSWORD\n",
        "os.environ[\"OPENAI_API_KEY\"] = OPENAI_API_KEY"
      ],
      "metadata": {
        "id": "2ih6hBSl6HIh"
      },
      "execution_count": 11,
      "outputs": []
    },
    {
      "cell_type": "code",
      "source": [
        "from langchain_community.graphs import Neo4jGraph"
      ],
      "metadata": {
        "id": "dZdSwkO26bxn"
      },
      "execution_count": 12,
      "outputs": []
    },
    {
      "cell_type": "code",
      "source": [
        "graph = Neo4jGraph()\n",
        "#     url=os.environ.get(\"NEO4J_URI\"),\n",
        "#     username=os.environ.get(\"NEO4J_USERNAME\"),\n",
        "#     password=os.environ.get(\"NEO4J_PASSWORD\"),\n",
        "# )\n",
        "\n",
        "#  in this cas i have called the credentials using the os.environ"
      ],
      "metadata": {
        "colab": {
          "base_uri": "https://localhost:8080/"
        },
        "id": "QHXdUje76hdn",
        "outputId": "e567fbe9-65d5-4a03-8ad7-36ca6d6e4a94"
      },
      "execution_count": 13,
      "outputs": [
        {
          "output_type": "stream",
          "name": "stderr",
          "text": [
            "<ipython-input-13-c7cc67fa6f03>:1: LangChainDeprecationWarning: The class `Neo4jGraph` was deprecated in LangChain 0.3.8 and will be removed in 1.0. An updated version of the class exists in the :class:`~langchain-neo4j package and should be used instead. To use it run `pip install -U :class:`~langchain-neo4j` and import as `from :class:`~langchain_neo4j import Neo4jGraph``.\n",
            "  graph = Neo4jGraph()\n"
          ]
        }
      ]
    },
    {
      "cell_type": "code",
      "source": [
        "#web scrapping\n",
        "from langchain.document_loaders import WikipediaLoader\n",
        "raw_document = WikipediaLoader(query=\"Business Intelligence\").load()\n"
      ],
      "metadata": {
        "colab": {
          "base_uri": "https://localhost:8080/"
        },
        "id": "cOcReqsS6z8x",
        "outputId": "fc84c1bb-6682-4eb0-d98b-14faff957906"
      },
      "execution_count": 14,
      "outputs": [
        {
          "output_type": "stream",
          "name": "stderr",
          "text": [
            "/usr/local/lib/python3.10/dist-packages/wikipedia/wikipedia.py:389: GuessedAtParserWarning: No parser was explicitly specified, so I'm using the best available HTML parser for this system (\"lxml\"). This usually isn't a problem, but if you run this code on another system, or in a different virtual environment, it may use a different parser and behave differently.\n",
            "\n",
            "The code that caused this warning is on line 389 of the file /usr/local/lib/python3.10/dist-packages/wikipedia/wikipedia.py. To get rid of this warning, pass the additional argument 'features=\"lxml\"' to the BeautifulSoup constructor.\n",
            "\n",
            "  lis = BeautifulSoup(html).find_all('li')\n"
          ]
        }
      ]
    },
    {
      "cell_type": "code",
      "source": [
        "len(  raw_document)"
      ],
      "metadata": {
        "colab": {
          "base_uri": "https://localhost:8080/"
        },
        "id": "15AfW6Pm8emP",
        "outputId": "02ed256e-6541-4cba-985c-6f5c2460d5dc"
      },
      "execution_count": 15,
      "outputs": [
        {
          "output_type": "execute_result",
          "data": {
            "text/plain": [
              "24"
            ]
          },
          "metadata": {},
          "execution_count": 15
        }
      ]
    },
    {
      "cell_type": "code",
      "source": [
        "raw_document[0]"
      ],
      "metadata": {
        "colab": {
          "base_uri": "https://localhost:8080/"
        },
        "id": "U38UACIi8F7B",
        "outputId": "fe73c131-8791-4102-f255-8c8b6de7974c"
      },
      "execution_count": 16,
      "outputs": [
        {
          "output_type": "execute_result",
          "data": {
            "text/plain": [
              "Document(metadata={'title': 'Business intelligence', 'summary': 'Business intelligence (BI) consists of strategies, methodologies, and technologies used by enterprises for data analysis and management of business information. Common functions of BI technologies include reporting, online analytical processing, analytics, dashboard development, data mining, process mining, complex event processing, business performance management, benchmarking, text mining, predictive analytics, and prescriptive analytics. \\nBI tools can handle large amounts of structured and sometimes unstructured data to help organizations identify, develop, and otherwise create new strategic business opportunities. They aim to allow for the easy interpretation of these big data. Identifying new opportunities and implementing an effective strategy based on insights is assumed to potentially provide businesses with a competitive market advantage and long-term stability, and help them take strategic decisions.\\nBusiness intelligence can be used by enterprises to support a wide range of business decisions ranging from operational to strategic. Basic operating decisions include product positioning or pricing. Strategic business decisions involve priorities, goals, and directions at the broadest level. In all cases, BI is believed to be most effective when it combines data derived from the market in which a company operates (external data) with data from company sources internal to the business such as financial and operations data (internal data). When combined, external and internal data can provide a complete picture which, in effect, creates an \"intelligence\" that cannot be derived from any singular set of data.\\nAmong their many uses, business intelligence tools empower organizations to gain insight into new markets, to assess demand and suitability of products and services for different market segments, and to gauge the impact of marketing efforts.\\nBI applications use data gathered from a data warehouse (DW) or from a data mart, and the concepts of BI and DW combine as \"BI/DW\"\\nor as \"BIDW\". A data warehouse contains a copy of analytical data that facilitates decision support.', 'source': 'https://en.wikipedia.org/wiki/Business_intelligence'}, page_content='Business intelligence (BI) consists of strategies, methodologies, and technologies used by enterprises for data analysis and management of business information. Common functions of BI technologies include reporting, online analytical processing, analytics, dashboard development, data mining, process mining, complex event processing, business performance management, benchmarking, text mining, predictive analytics, and prescriptive analytics. \\nBI tools can handle large amounts of structured and sometimes unstructured data to help organizations identify, develop, and otherwise create new strategic business opportunities. They aim to allow for the easy interpretation of these big data. Identifying new opportunities and implementing an effective strategy based on insights is assumed to potentially provide businesses with a competitive market advantage and long-term stability, and help them take strategic decisions.\\nBusiness intelligence can be used by enterprises to support a wide range of business decisions ranging from operational to strategic. Basic operating decisions include product positioning or pricing. Strategic business decisions involve priorities, goals, and directions at the broadest level. In all cases, BI is believed to be most effective when it combines data derived from the market in which a company operates (external data) with data from company sources internal to the business such as financial and operations data (internal data). When combined, external and internal data can provide a complete picture which, in effect, creates an \"intelligence\" that cannot be derived from any singular set of data.\\nAmong their many uses, business intelligence tools empower organizations to gain insight into new markets, to assess demand and suitability of products and services for different market segments, and to gauge the impact of marketing efforts.\\nBI applications use data gathered from a data warehouse (DW) or from a data mart, and the concepts of BI and DW combine as \"BI/DW\"\\nor as \"BIDW\". A data warehouse contains a copy of analytical data that facilitates decision support.\\n\\n\\n== History ==\\nThe earliest known use of the term business intelligence is in Richard Millar Devens\\' Cyclopædia of Commercial and Business Anecdotes (1865). Devens used the term to describe how the banker Sir Henry Furnese gained profit by receiving and acting upon information about his environment, prior to his competitors:\\n\\nThroughout Holland, Flanders, France, and Germany, he maintained a complete and perfect train of business intelligence. The news of the many battles fought was thus received first by him, and the fall of Namur added to his profits, owing to his early receipt of the news.\\nThe ability to collect and react accordingly based on the information retrieved, Devens says, is central to business intelligence.\\nWhen Hans Peter Luhn, a researcher at IBM, used the term business intelligence in an article published in 1958, he employed the Webster\\'s Dictionary definition of intelligence: \"the ability to apprehend the interrelationships of presented facts in such a way as to guide action towards a desired goal.\" \\nIn 1989, Howard Dresner (later a Gartner analyst) proposed business intelligence as an umbrella term to describe \"concepts and methods to improve business decision making by using fact-based support systems.\" It was not until the late 1990s that this usage was widespread.\\n\\n\\n== Definition ==\\nAccording to Solomon Negash and Paul Gray, business intelligence (BI) can be defined as systems that combine:\\n\\nData gathering\\nData storage\\nKnowledge management\\nwith analysis to evaluate complex corporate and competitive information for presentation to planners and decision makers, with the objective of improving the timeliness and the quality of the input to the decision process.\"\\nAccording to Forrester Research, business intelligence is \"a set of methodologies, processes, architectures, and technologies that transform raw data into meaningful and usef')"
            ]
          },
          "metadata": {},
          "execution_count": 16
        }
      ]
    },
    {
      "cell_type": "code",
      "source": [
        "# instead of storing the embedding in vectorDB, I willlput it in Neo4J because of easy query and\n",
        "# flexxibitlity search that graph gives connecting chunks or works (nodes) with edges\n",
        "\n",
        "#Chunking now for 4 document\n",
        "from langchain.text_splitter import TokenTextSplitter\n",
        "text_splitter = TokenTextSplitter(chunk_size=512, chunk_overlap=24)\n",
        "documents = text_splitter.split_documents(raw_document[:4])"
      ],
      "metadata": {
        "id": "ksYYpd1-9V8w"
      },
      "execution_count": 17,
      "outputs": []
    },
    {
      "cell_type": "markdown",
      "source": [
        "![Neo4j graph.png](data:image/png;base64,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)"
      ],
      "metadata": {
        "id": "5ZK6mAEi_nMl"
      }
    },
    {
      "cell_type": "code",
      "source": [
        "# loading the lLM from openai\n",
        "\n",
        "from langchain_openai import ChatOpenAI\n",
        "llm = ChatOpenAI(temperature=0, model_name=\"gpt-3.5-turbo-0125\")\n",
        "\n",
        "\n"
      ],
      "metadata": {
        "id": "SZwTUOEW9hap"
      },
      "execution_count": 18,
      "outputs": []
    },
    {
      "cell_type": "code",
      "source": [
        "# converting the document to graph\n",
        "from langchain_experimental.graph_transformers import LLMGraphTransformer\n",
        "llm_transformer = LLMGraphTransformer(llm=llm)"
      ],
      "metadata": {
        "colab": {
          "base_uri": "https://localhost:8080/"
        },
        "id": "da3fn45aAb2j",
        "outputId": "36dceeae-d05f-470e-a1cb-84f7be182fd3"
      },
      "execution_count": 19,
      "outputs": [
        {
          "output_type": "stream",
          "name": "stderr",
          "text": [
            "/usr/local/lib/python3.10/dist-packages/langchain_openai/chat_models/base.py:1375: UserWarning: Cannot use method='json_schema' with model gpt-3.5-turbo-0125 since it doesn't support OpenAI's Structured Output API. You can see supported models here: https://platform.openai.com/docs/guides/structured-outputs#supported-models. To fix this warning, set `method='function_calling'. Overriding to method='function_calling'.\n",
            "  warnings.warn(\n"
          ]
        }
      ]
    },
    {
      "cell_type": "code",
      "source": [
        "graph_document = llm_transformer.convert_to_graph_documents(documents)"
      ],
      "metadata": {
        "id": "mvb-BoTgA0c8"
      },
      "execution_count": 20,
      "outputs": []
    },
    {
      "cell_type": "code",
      "source": [
        "graph_document"
      ],
      "metadata": {
        "colab": {
          "base_uri": "https://localhost:8080/"
        },
        "id": "QoiQsNnaBTTl",
        "outputId": "8c2d1200-7559-491b-c4a6-9d3351a5bdc0"
      },
      "execution_count": 21,
      "outputs": [
        {
          "output_type": "execute_result",
          "data": {
            "text/plain": [
              "[GraphDocument(nodes=[Node(id='Business Intelligence', type='Concept', properties={}), Node(id='Bi Technologies', type='Concept', properties={}), Node(id='Enterprises', type='Organization', properties={}), Node(id='Data Analysis', type='Concept', properties={}), Node(id='Management Of Business Information', type='Concept', properties={}), Node(id='Bi Tools', type='Concept', properties={}), Node(id='Structured Data', type='Concept', properties={}), Node(id='Unstructured Data', type='Concept', properties={}), Node(id='New Strategic Business Opportunities', type='Concept', properties={}), Node(id='Interpretation Of Big Data', type='Concept', properties={}), Node(id='Competitive Market Advantage', type='Concept', properties={}), Node(id='Long-Term Stability', type='Concept', properties={}), Node(id='Strategic Decisions', type='Concept', properties={}), Node(id='Operational Decisions', type='Concept', properties={}), Node(id='Product Positioning', type='Concept', properties={}), Node(id='Pricing', type='Concept', properties={}), Node(id='Goals', type='Concept', properties={}), Node(id='Data Sources', type='Concept', properties={}), Node(id='External Data', type='Concept', properties={}), Node(id='Internal Data', type='Concept', properties={}), Node(id='Complete Picture', type='Concept', properties={}), Node(id='Intelligence', type='Concept', properties={}), Node(id='Market Data', type='Concept', properties={}), Node(id='Business Decisions', type='Concept', properties={}), Node(id='Data Warehouse', type='Concept', properties={}), Node(id='Data Mart', type='Concept', properties={}), Node(id='Bi/Dw', type='Concept', properties={}), Node(id='Analytical Data', type='Concept', properties={}), Node(id='Decision Support', type='Concept', properties={}), Node(id='History', type='Concept', properties={}), Node(id='Richard Millar Devens', type='Person', properties={}), Node(id='Cyclopædia Of Commercial And Business Anecdotes', type='Concept', properties={}), Node(id='Sir Henry Furnese', type='Person', properties={})], relationships=[Relationship(source=Node(id='Business Intelligence', type='Concept', properties={}), target=Node(id='Bi Technologies', type='Concept', properties={}), type='CONSISTS_OF', properties={}), Relationship(source=Node(id='Bi Technologies', type='Concept', properties={}), target=Node(id='Enterprises', type='Organization', properties={}), type='USED_BY', properties={}), Relationship(source=Node(id='Bi Technologies', type='Concept', properties={}), target=Node(id='Data Analysis', type='Concept', properties={}), type='USED_FOR', properties={}), Relationship(source=Node(id='Bi Technologies', type='Concept', properties={}), target=Node(id='Management Of Business Information', type='Concept', properties={}), type='USED_FOR', properties={}), Relationship(source=Node(id='Bi Tools', type='Concept', properties={}), target=Node(id='Structured Data', type='Concept', properties={}), type='HANDLES', properties={}), Relationship(source=Node(id='Bi Tools', type='Concept', properties={}), target=Node(id='Unstructured Data', type='Concept', properties={}), type='HANDLES', properties={}), Relationship(source=Node(id='Bi Tools', type='Concept', properties={}), target=Node(id='New Strategic Business Opportunities', type='Concept', properties={}), type='AIMS_TO_CREATE', properties={}), Relationship(source=Node(id='Bi Tools', type='Concept', properties={}), target=Node(id='Interpretation Of Big Data', type='Concept', properties={}), type='AIMS_TO_ENABLE', properties={}), Relationship(source=Node(id='Bi Tools', type='Concept', properties={}), target=Node(id='Competitive Market Advantage', type='Concept', properties={}), type='AIMS_TO_PROVIDE', properties={}), Relationship(source=Node(id='Bi Tools', type='Concept', properties={}), target=Node(id='Long-Term Stability', type='Concept', properties={}), type='AIMS_TO_PROVIDE', properties={}), Relationship(source=Node(id='Bi Tools', type='Concept', properties={}), target=Node(id='Strategic Decisions', type='Concept', properties={}), type='AIMS_TO_SUPPORT', properties={}), Relationship(source=Node(id='Bi Tools', type='Concept', properties={}), target=Node(id='Operational Decisions', type='Concept', properties={}), type='AIMS_TO_SUPPORT', properties={}), Relationship(source=Node(id='Operational Decisions', type='Concept', properties={}), target=Node(id='Product Positioning', type='Concept', properties={}), type='INCLUDES', properties={}), Relationship(source=Node(id='Operational Decisions', type='Concept', properties={}), target=Node(id='Pricing', type='Concept', properties={}), type='INCLUDES', properties={}), Relationship(source=Node(id='Strategic Decisions', type='Concept', properties={}), target=Node(id='Goals', type='Concept', properties={}), type='INVOLVES', properties={}), Relationship(source=Node(id='Bi Tools', type='Concept', properties={}), target=Node(id='Data Sources', type='Concept', properties={}), type='COMBINES', properties={}), Relationship(source=Node(id='Data Sources', type='Concept', properties={}), target=Node(id='External Data', type='Concept', properties={}), type='INCLUDES', properties={}), Relationship(source=Node(id='Data Sources', type='Concept', properties={}), target=Node(id='Internal Data', type='Concept', properties={}), type='INCLUDES', properties={}), Relationship(source=Node(id='External Data', type='Concept', properties={}), target=Node(id='Market Data', type='Concept', properties={}), type='DERIVED_FROM', properties={}), Relationship(source=Node(id='Internal Data', type='Concept', properties={}), target=Node(id='Market Data', type='Concept', properties={}), type='DERIVED_FROM', properties={}), Relationship(source=Node(id='External Data', type='Concept', properties={}), target=Node(id='Internal Data', type='Concept', properties={}), type='COMBINES_TO_CREATE', properties={}), Relationship(source=Node(id='Internal Data', type='Concept', properties={}), target=Node(id='Complete Picture', type='Concept', properties={}), type='CONTRIBUTES_TO', properties={}), Relationship(source=Node(id='Complete Picture', type='Concept', properties={}), target=Node(id='Intelligence', type='Concept', properties={}), type='CREATES', properties={}), Relationship(source=Node(id='Business Intelligence', type='Concept', properties={}), target=Node(id='Business Decisions', type='Concept', properties={}), type='SUPPORTS', properties={}), Relationship(source=Node(id='Business Decisions', type='Concept', properties={}), target=Node(id='Operational Decisions', type='Concept', properties={}), type='INCLUDES', properties={}), Relationship(source=Node(id='Business Decisions', type='Concept', properties={}), target=Node(id='Strategic Decisions', type='Concept', properties={}), type='INCLUDES', properties={}), Relationship(source=Node(id='History', type='Concept', properties={}), target=Node(id='Richard Millar Devens', type='Person', properties={}), type='FIRST_KNOWN_USE_OF', properties={}), Relationship(source=Node(id='History', type='Concept', properties={}), target=Node(id='Cyclopædia Of Commercial And Business Anecdotes', type='Concept', properties={}), type='SOURCE_OF', properties={}), Relationship(source=Node(id='Richard Millar Devens', type='Person', properties={}), target=Node(id='Sir Henry Furnese', type='Person', properties={}), type='DESCRIBES', properties={})], source=Document(metadata={'title': 'Business intelligence', 'summary': 'Business intelligence (BI) consists of strategies, methodologies, and technologies used by enterprises for data analysis and management of business information. Common functions of BI technologies include reporting, online analytical processing, analytics, dashboard development, data mining, process mining, complex event processing, business performance management, benchmarking, text mining, predictive analytics, and prescriptive analytics. \\nBI tools can handle large amounts of structured and sometimes unstructured data to help organizations identify, develop, and otherwise create new strategic business opportunities. They aim to allow for the easy interpretation of these big data. Identifying new opportunities and implementing an effective strategy based on insights is assumed to potentially provide businesses with a competitive market advantage and long-term stability, and help them take strategic decisions.\\nBusiness intelligence can be used by enterprises to support a wide range of business decisions ranging from operational to strategic. Basic operating decisions include product positioning or pricing. Strategic business decisions involve priorities, goals, and directions at the broadest level. In all cases, BI is believed to be most effective when it combines data derived from the market in which a company operates (external data) with data from company sources internal to the business such as financial and operations data (internal data). When combined, external and internal data can provide a complete picture which, in effect, creates an \"intelligence\" that cannot be derived from any singular set of data.\\nAmong their many uses, business intelligence tools empower organizations to gain insight into new markets, to assess demand and suitability of products and services for different market segments, and to gauge the impact of marketing efforts.\\nBI applications use data gathered from a data warehouse (DW) or from a data mart, and the concepts of BI and DW combine as \"BI/DW\"\\nor as \"BIDW\". A data warehouse contains a copy of analytical data that facilitates decision support.', 'source': 'https://en.wikipedia.org/wiki/Business_intelligence'}, page_content='Business intelligence (BI) consists of strategies, methodologies, and technologies used by enterprises for data analysis and management of business information. Common functions of BI technologies include reporting, online analytical processing, analytics, dashboard development, data mining, process mining, complex event processing, business performance management, benchmarking, text mining, predictive analytics, and prescriptive analytics. \\nBI tools can handle large amounts of structured and sometimes unstructured data to help organizations identify, develop, and otherwise create new strategic business opportunities. They aim to allow for the easy interpretation of these big data. Identifying new opportunities and implementing an effective strategy based on insights is assumed to potentially provide businesses with a competitive market advantage and long-term stability, and help them take strategic decisions.\\nBusiness intelligence can be used by enterprises to support a wide range of business decisions ranging from operational to strategic. Basic operating decisions include product positioning or pricing. Strategic business decisions involve priorities, goals, and directions at the broadest level. In all cases, BI is believed to be most effective when it combines data derived from the market in which a company operates (external data) with data from company sources internal to the business such as financial and operations data (internal data). When combined, external and internal data can provide a complete picture which, in effect, creates an \"intelligence\" that cannot be derived from any singular set of data.\\nAmong their many uses, business intelligence tools empower organizations to gain insight into new markets, to assess demand and suitability of products and services for different market segments, and to gauge the impact of marketing efforts.\\nBI applications use data gathered from a data warehouse (DW) or from a data mart, and the concepts of BI and DW combine as \"BI/DW\"\\nor as \"BIDW\". A data warehouse contains a copy of analytical data that facilitates decision support.\\n\\n\\n== History ==\\nThe earliest known use of the term business intelligence is in Richard Millar Devens\\' Cyclopædia of Commercial and Business Anecdotes (1865). Devens used the term to describe how the banker Sir Henry Furnese gained profit by receiving and acting upon information about his environment, prior to his competitors:\\n\\nThroughout Holland, Flanders, France, and Germany, he maintained a complete and perfect train of business intelligence. The news of the many battles fought was thus received first by him, and the fall of Namur added to his profits, owing to his early receipt of the news.\\nThe ability to collect')),\n",
              " GraphDocument(nodes=[Node(id='Namur', type='Location', properties={}), Node(id='Profits', type='Concept', properties={}), Node(id='Devens', type='Person', properties={}), Node(id='Hans Peter Luhn', type='Person', properties={}), Node(id='Ibm', type='Organization', properties={}), Node(id='Business Intelligence', type='Concept', properties={}), Node(id='Howard Dresner', type='Person', properties={}), Node(id='Gartner', type='Organization', properties={}), Node(id='Solomon Negash', type='Person', properties={}), Node(id='Paul Gray', type='Person', properties={}), Node(id='Forrester Research', type='Organization', properties={})], relationships=[Relationship(source=Node(id='Namur', type='Location', properties={}), target=Node(id='Profits', type='Concept', properties={}), type='ADDED_TO', properties={}), Relationship(source=Node(id='Profits', type='Concept', properties={}), target=Node(id='Devens', type='Person', properties={}), type='MENTIONED_IN', properties={}), Relationship(source=Node(id='Hans Peter Luhn', type='Person', properties={}), target=Node(id='Ibm', type='Organization', properties={}), type='WORKED_AT', properties={}), Relationship(source=Node(id='Hans Peter Luhn', type='Person', properties={}), target=Node(id='Business Intelligence', type='Concept', properties={}), type='MENTIONED_IN', properties={}), Relationship(source=Node(id='Howard Dresner', type='Person', properties={}), target=Node(id='Gartner', type='Organization', properties={}), type='WORKED_AT', properties={}), Relationship(source=Node(id='Howard Dresner', type='Person', properties={}), target=Node(id='Business Intelligence', type='Concept', properties={}), type='PROPOSED_DEFINITION', properties={}), Relationship(source=Node(id='Solomon Negash', type='Person', properties={}), target=Node(id='Business Intelligence', type='Concept', properties={}), type='DEFINED_AS', properties={}), Relationship(source=Node(id='Paul Gray', type='Person', properties={}), target=Node(id='Business Intelligence', type='Concept', properties={}), type='DEFINED_AS', properties={}), Relationship(source=Node(id='Forrester Research', type='Organization', properties={}), target=Node(id='Business Intelligence', type='Concept', properties={}), type='DEFINED_AS', properties={})], source=Document(metadata={'title': 'Business intelligence', 'summary': 'Business intelligence (BI) consists of strategies, methodologies, and technologies used by enterprises for data analysis and management of business information. Common functions of BI technologies include reporting, online analytical processing, analytics, dashboard development, data mining, process mining, complex event processing, business performance management, benchmarking, text mining, predictive analytics, and prescriptive analytics. \\nBI tools can handle large amounts of structured and sometimes unstructured data to help organizations identify, develop, and otherwise create new strategic business opportunities. They aim to allow for the easy interpretation of these big data. Identifying new opportunities and implementing an effective strategy based on insights is assumed to potentially provide businesses with a competitive market advantage and long-term stability, and help them take strategic decisions.\\nBusiness intelligence can be used by enterprises to support a wide range of business decisions ranging from operational to strategic. Basic operating decisions include product positioning or pricing. Strategic business decisions involve priorities, goals, and directions at the broadest level. In all cases, BI is believed to be most effective when it combines data derived from the market in which a company operates (external data) with data from company sources internal to the business such as financial and operations data (internal data). When combined, external and internal data can provide a complete picture which, in effect, creates an \"intelligence\" that cannot be derived from any singular set of data.\\nAmong their many uses, business intelligence tools empower organizations to gain insight into new markets, to assess demand and suitability of products and services for different market segments, and to gauge the impact of marketing efforts.\\nBI applications use data gathered from a data warehouse (DW) or from a data mart, and the concepts of BI and DW combine as \"BI/DW\"\\nor as \"BIDW\". A data warehouse contains a copy of analytical data that facilitates decision support.', 'source': 'https://en.wikipedia.org/wiki/Business_intelligence'}, page_content=' the fall of Namur added to his profits, owing to his early receipt of the news.\\nThe ability to collect and react accordingly based on the information retrieved, Devens says, is central to business intelligence.\\nWhen Hans Peter Luhn, a researcher at IBM, used the term business intelligence in an article published in 1958, he employed the Webster\\'s Dictionary definition of intelligence: \"the ability to apprehend the interrelationships of presented facts in such a way as to guide action towards a desired goal.\" \\nIn 1989, Howard Dresner (later a Gartner analyst) proposed business intelligence as an umbrella term to describe \"concepts and methods to improve business decision making by using fact-based support systems.\" It was not until the late 1990s that this usage was widespread.\\n\\n\\n== Definition ==\\nAccording to Solomon Negash and Paul Gray, business intelligence (BI) can be defined as systems that combine:\\n\\nData gathering\\nData storage\\nKnowledge management\\nwith analysis to evaluate complex corporate and competitive information for presentation to planners and decision makers, with the objective of improving the timeliness and the quality of the input to the decision process.\"\\nAccording to Forrester Research, business intelligence is \"a set of methodologies, processes, architectures, and technologies that transform raw data into meaningful and usef')),\n",
              " GraphDocument(nodes=[Node(id='Business Intelligence Software', type='Software', properties={}), Node(id='Ibm', type='Company', properties={}), Node(id='Siebel', type='Company', properties={}), Node(id='Oracle', type='Company', properties={}), Node(id='Multiway Data Analysis Consortium', type='Organization', properties={}), Node(id='United States Of America', type='Country', properties={}), Node(id='Cloud-Hosted Business Intelligence Software', type='Software', properties={}), Node(id='Android', type='Operating system', properties={}), Node(id='Ios', type='Operating system', properties={}), Node(id='Spreadsheets', type='Software', properties={}), Node(id='Reporting And Querying Software', type='Software', properties={}), Node(id='Online Analytical Processing (Olap)', type='Software', properties={}), Node(id='Digital Dashboards', type='Software', properties={}), Node(id='Data Mining', type='Software', properties={}), Node(id='Business Activity Monitoring', type='Software', properties={}), Node(id='Data Warehouse', type='Software', properties={}), Node(id='Local Information Systems', type='Software', properties={}), Node(id='Data Cleansing', type='Software', properties={}), Node(id='Enterprise Resource Planning Systems', type='Software', properties={}), Node(id='Application Programming Interfaces', type='Software', properties={}), Node(id='Data Warehouse Appliances', type='Software', properties={})], relationships=[Relationship(source=Node(id='Ibm', type='Company', properties={}), target=Node(id='Business Intelligence Software', type='Software', properties={}), type='DEVELOPED', properties={}), Relationship(source=Node(id='Siebel', type='Company', properties={}), target=Node(id='Business Intelligence Software', type='Software', properties={}), type='DEVELOPED', properties={}), Relationship(source=Node(id='Multiway Data Analysis Consortium', type='Organization', properties={}), target=Node(id='United States Of America', type='Country', properties={}), type='ORGANIZED', properties={}), Relationship(source=Node(id='Cloud-Hosted Business Intelligence Software', type='Software', properties={}), target=Node(id='Android', type='Operating system', properties={}), type='DEVELOPED_FOR', properties={}), Relationship(source=Node(id='Cloud-Hosted Business Intelligence Software', type='Software', properties={}), target=Node(id='Ios', type='Operating system', properties={}), type='DEVELOPED_FOR', properties={}), Relationship(source=Node(id='Business Intelligence Software', type='Software', properties={}), target=Node(id='Spreadsheets', type='Software', properties={}), type='BELONGS_TO_CATEGORY', properties={}), Relationship(source=Node(id='Business Intelligence Software', type='Software', properties={}), target=Node(id='Reporting And Querying Software', type='Software', properties={}), type='BELONGS_TO_CATEGORY', properties={}), Relationship(source=Node(id='Business Intelligence Software', type='Software', properties={}), target=Node(id='Online Analytical Processing (Olap)', type='Software', properties={}), type='BELONGS_TO_CATEGORY', properties={}), Relationship(source=Node(id='Business Intelligence Software', type='Software', properties={}), target=Node(id='Digital Dashboards', type='Software', properties={}), type='BELONGS_TO_CATEGORY', properties={}), Relationship(source=Node(id='Business Intelligence Software', type='Software', properties={}), target=Node(id='Data Mining', type='Software', properties={}), type='BELONGS_TO_CATEGORY', properties={}), Relationship(source=Node(id='Business Intelligence Software', type='Software', properties={}), target=Node(id='Business Activity Monitoring', type='Software', properties={}), type='BELONGS_TO_CATEGORY', properties={}), Relationship(source=Node(id='Business Intelligence Software', type='Software', properties={}), target=Node(id='Data Warehouse', type='Software', properties={}), type='BELONGS_TO_CATEGORY', properties={}), Relationship(source=Node(id='Business Intelligence Software', type='Software', properties={}), target=Node(id='Local Information Systems', type='Software', properties={}), type='BELONGS_TO_CATEGORY', properties={}), Relationship(source=Node(id='Business Intelligence Software', type='Software', properties={}), target=Node(id='Data Cleansing', type='Software', properties={}), type='BELONGS_TO_CATEGORY', properties={}), Relationship(source=Node(id='Business Intelligence Software', type='Software', properties={}), target=Node(id='Enterprise Resource Planning Systems', type='Software', properties={}), type='BELONGS_TO_CATEGORY', properties={}), Relationship(source=Node(id='Business Intelligence Software', type='Software', properties={}), target=Node(id='Application Programming Interfaces', type='Software', properties={}), type='BELONGS_TO_CATEGORY', properties={}), Relationship(source=Node(id='Business Intelligence Software', type='Software', properties={}), target=Node(id='Data Warehouse Appliances', type='Software', properties={}), type='BELONGS_TO_CATEGORY', properties={})], source=Document(metadata={'title': 'Business intelligence software', 'summary': 'Business intelligence software is a type of application software designed to retrieve, analyze, transform and report data for business intelligence (BI).  The applications generally read data that has been previously stored, often - though not necessarily - in a data warehouse or data mart.', 'source': 'https://en.wikipedia.org/wiki/Business_intelligence_software'}, page_content='Business intelligence software is a type of application software designed to retrieve, analyze, transform and report data for business intelligence (BI).  The applications generally read data that has been previously stored, often - though not necessarily - in a data warehouse or data mart.\\n\\n\\n== History ==\\n\\n\\n=== Development of business intelligence software ===\\nThe first comprehensive business intelligence systems were developed by IBM and Siebel (currently acquired by Oracle) in the period between 1970 and 1990. At the same time, small developer teams were emerging with attractive ideas, and pushing out some of the products companies still use nowadays.\\nIn 1988, specialists and vendors organized a Multiway Data Analysis Consortium in Rome, where they considered making data management and analytics more efficient, and foremost available to smaller and financially restricted businesses. By 2000, there were many professional reporting systems and analytic programs, some owned by top performing software producers in the United States of America.\\n\\n\\n=== Cloud-hosted business intelligence software ===\\nIn the years after 2000, business intelligence software producers became interested in producing universally applicable BI systems which don’t require expensive installation, and could hence be considered by smaller and midmarket businesses which could not afford on premise maintenance. These aspirations emerged in parallel with the cloud hosting trend, which is how most vendors came to develop independent systems with unrestricted access to information.\\nFrom 2006 onwards, the positive effects of cloud-stored information and data management transformed itself to a completely mobile-affectioned one, mostly to the benefit of decentralized and remote teams looking to tweak data or gain full visibility over it out of office. As a response to the large success of fully optimized uni-browser versions, vendors have recently begun releasing mobile-specific product applications for both Android and iOS users. Cloud-hosted data analytics made it possible for companies to categorize and process large volumes of data, which is how we can currently speak of unlimited visualization, and intelligent decision making.\\n\\n\\n== Types ==\\nThe key general categories of business intelligence applications are:\\n\\nSpreadsheets\\nReporting and querying software: applications that extract, sort, summarize, and present selected data\\nOnline analytical processing (OLAP)\\nDigital dashboards\\nData mining\\nBusiness activity monitoring\\nData warehouse\\nLocal information systems\\nData cleansing\\nExcept for spreadsheets, these tools are provided as standalone applications, suites of applications, components of Enterprise resource planning systems, application programming interfaces or as components of software targeted to a specific industry. The tools are sometimes packaged into data warehouse appliances.\\n\\n\\n== Open')),\n",
              " GraphDocument(nodes=[Node(id='Apache Hive', type='Software', properties={}), Node(id='Birt Project', type='Software', properties={}), Node(id='D3.Js', type='Software', properties={}), Node(id='Jasperreports', type='Software', properties={}), Node(id='Knime', type='Software', properties={}), Node(id='Orange', type='Software', properties={}), Node(id='Pentaho', type='Software', properties={}), Node(id='Superset', type='Software', properties={}), Node(id='Grafana', type='Software', properties={}), Node(id='Palo', type='Software', properties={}), Node(id='Biml', type='Software', properties={}), Node(id='Inetsoft', type='Software', properties={}), Node(id='Splunk', type='Software', properties={})], relationships=[Relationship(source=Node(id='Jasperreports', type='Software', properties={}), target=Node(id='Jasperreports', type='Software', properties={}), type='REPORTING_ANALYSIS_DASHBOARD', properties={}), Relationship(source=Node(id='Palo', type='Software', properties={}), target=Node(id='Palo', type='Software', properties={}), type='OLAP_SERVER_WORKSHEET_SERVER_ETL_SERVER', properties={}), Relationship(source=Node(id='Pentaho', type='Software', properties={}), target=Node(id='Pentaho', type='Software', properties={}), type='REPORTING_ANALYSIS_DASHBOARD_DATA_MINING_WORKFLOW_CAPABILITIES', properties={})], source=Document(metadata={'title': 'Business intelligence software', 'summary': 'Business intelligence software is a type of application software designed to retrieve, analyze, transform and report data for business intelligence (BI).  The applications generally read data that has been previously stored, often - though not necessarily - in a data warehouse or data mart.', 'source': 'https://en.wikipedia.org/wiki/Business_intelligence_software'}, page_content=' as components of software targeted to a specific industry. The tools are sometimes packaged into data warehouse appliances.\\n\\n\\n== Open source free products ==\\nApache Hive, hosted by the Apache Software Foundation\\nBIRT Project, by the Eclipse Foundation\\nD3.js\\nJasperReports\\nKNIME\\nOrange\\nPentaho\\nSuperset\\nGrafana\\n\\n\\n== Open source commercial products ==\\nJasperReports: reporting, analysis, dashboard\\nPalo: OLAP server, worksheet server and ETL server\\nPentaho: reporting, analysis, dashboard, data mining and workflow capabilities\\n\\n\\n== Proprietary free products ==\\nBiml - Business Intelligence Markup Language\\nInetSoft\\nSplunk\\n\\n\\n== Proprietary products ==\\n\\n\\n== See also ==\\nList of reporting software\\n\\n\\n== References ==')),\n",
              " GraphDocument(nodes=[Node(id='Agile Business Intelligence', type='Concept', properties={}), Node(id='Agile Software Development', type='Concept', properties={}), Node(id='Business Intelligence', type='Concept', properties={}), Node(id='Abi', type='Concept', properties={}), Node(id='Bi Team', type='Concept', properties={}), Node(id='Business People', type='Concept', properties={}), Node(id='Analysts', type='Concept', properties={}), Node(id='Stakeholders', type='Concept', properties={}), Node(id='Approaches For Improving Bi Agility', type='Concept', properties={}), Node(id='Factors For Success Of Abi Projects', type='Concept', properties={}), Node(id='Holistic Approach To Bi Architectures', type='Concept', properties={}), Node(id='Organizational Forms', type='Concept', properties={}), Node(id='Technologies', type='Concept', properties={}), Node(id='Agile Process Models', type='Concept', properties={}), Node(id='Agile Methodology', type='Concept', properties={}), Node(id='Iterative Principle', type='Concept', properties={}), Node(id='End Users', type='Concept', properties={}), Node(id='Traditional Waterfall Processes', type='Concept', properties={}), Node(id='Requirements And Design Phases', type='Concept', properties={}), Node(id='Development', type='Concept', properties={}), Node(id='Development Cycles', type='Concept', properties={}), Node(id='Faster Delivery', type='Concept', properties={}), Node(id='Adaptive Planning', type='Concept', properties={}), Node(id='Evolutionary Development And Delivery', type='Concept', properties={}), Node(id='Time-Boxed Iterative Approach', type='Concept', properties={}), Node(id='Rapid And Flexible Responses To Change', type='Concept', properties={}), Node(id='Business Users', type='Concept', properties={}), Node(id='It Professionals', type='Concept', properties={}), Node(id='Data', type='Concept', properties={}), Node(id='Total Cost Of Change (Tcc)', type='Concept', properties={}), Node(id='Bi Problem Solving', type='Concept', properties={}), Node(id='Bi Functionality', type='Concept', properties={}), Node(id='Development Cycles Documentation', type='Concept', properties={}), Node(id='Continual Process', type='Concept', properties={}), Node(id='Managers', type='Concept', properties={}), Node(id='Product Data', type='Concept', properties={}), Node(id='Informed Decision-Making', type='Concept', properties={}), Node(id='Rapid Development', type='Concept', properties={}), Node(id='Agile Techniques', type='Concept', properties={}), Node(id='Bi Applications', type='Concept', properties={}), Node(id='Dashboards', type='Concept', properties={}), Node(id='Balanced Scorecards', type='Concept', properties={}), Node(id='Reports', type='Concept', properties={}), Node(id='Analytic Applications', type='Concept', properties={}), Node(id='Aberdeen Group', type='Concept', properties={}), Node(id='Established Abi Implementations', type='Concept', properties={}), Node(id='Processes For Ensuring Business Needs', type='Concept', properties={}), Node(id='End User Participation', type='Concept', properties={}), Node(id='Collaboration Between It And The Business', type='Concept', properties={}), Node(id='Definition Of Agile Business Intelligence', type='Definition', properties={}), Node(id='Key Performance Criteria', type='Concept', properties={}), Node(id=\"Aberdeen'S Maturity Class Framework\", type='Concept', properties={}), Node(id='Availability Of Timely Management Information', type='Concept', properties={}), Node(id='It', type='Concept', properties={}), Node(id='Business Managers', type='Concept', properties={}), Node(id='Sound Business Decisions', type='Concept', properties={}), Node(id='Average Time To Add A Column', type='Concept', properties={})], relationships=[Relationship(source=Node(id='Agile Business Intelligence', type='Concept', properties={}), target=Node(id='Agile Software Development', type='Concept', properties={}), type='INTEGRATION', properties={}), Relationship(source=Node(id='Agile Business Intelligence', type='Concept', properties={}), target=Node(id='Business Intelligence', type='Concept', properties={}), type='INTEGRATION', properties={}), Relationship(source=Node(id='Agile Business Intelligence', type='Concept', properties={}), target=Node(id='Abi', type='Concept', properties={}), type='INTEGRATION', properties={}), Relationship(source=Node(id='Agile Business Intelligence', type='Concept', properties={}), target=Node(id='Bi Team', type='Concept', properties={}), type='INTEGRATION', properties={}), Relationship(source=Node(id='Agile Business Intelligence', type='Concept', properties={}), target=Node(id='Business People', type='Concept', properties={}), type='INTEGRATION', properties={}), Relationship(source=Node(id='Agile Business Intelligence', type='Concept', properties={}), target=Node(id='Analysts', type='Concept', properties={}), type='INTEGRATION', properties={}), Relationship(source=Node(id='Agile Business Intelligence', type='Concept', properties={}), target=Node(id='Stakeholders', type='Concept', properties={}), type='INTEGRATION', properties={}), Relationship(source=Node(id='Agile Business Intelligence', type='Concept', properties={}), target=Node(id='Approaches For Improving Bi Agility', type='Concept', properties={}), type='INTEGRATION', properties={}), Relationship(source=Node(id='Agile Business Intelligence', type='Concept', properties={}), target=Node(id='Factors For Success Of Abi Projects', type='Concept', properties={}), type='INTEGRATION', properties={}), Relationship(source=Node(id='Factors For Success Of Abi Projects', type='Concept', properties={}), target=Node(id='Holistic Approach To Bi Architectures', type='Concept', properties={}), type='CONSIDERATION', properties={}), Relationship(source=Node(id='Factors For Success Of Abi Projects', type='Concept', properties={}), target=Node(id='Organizational Forms', type='Concept', properties={}), type='CONSIDERATION', properties={}), Relationship(source=Node(id='Factors For Success Of Abi Projects', type='Concept', properties={}), target=Node(id='Technologies', type='Concept', properties={}), type='CONSIDERATION', properties={}), Relationship(source=Node(id='Agile Business Intelligence', type='Concept', properties={}), target=Node(id='Agile Process Models', type='Concept', properties={}), type='INTEGRATION', properties={}), Relationship(source=Node(id='Agile Methodology', type='Concept', properties={}), target=Node(id='Iterative Principle', type='Concept', properties={}), type='WORK_PRINCIPLE', properties={}), Relationship(source=Node(id='Iterative Principle', type='Concept', properties={}), target=Node(id='End Users', type='Concept', properties={}), type='OVERLAP', properties={}), Relationship(source=Node(id='Iterative Principle', type='Concept', properties={}), target=Node(id='Traditional Waterfall Processes', type='Concept', properties={}), type='COMPARISON', properties={}), Relationship(source=Node(id='Iterative Principle', type='Concept', properties={}), target=Node(id='Requirements And Design Phases', type='Concept', properties={}), type='OVERLAP', properties={}), Relationship(source=Node(id='Iterative Principle', type='Concept', properties={}), target=Node(id='Development', type='Concept', properties={}), type='OVERLAP', properties={}), Relationship(source=Node(id='Iterative Principle', type='Concept', properties={}), target=Node(id='Development Cycles', type='Concept', properties={}), type='REDUCTION', properties={}), Relationship(source=Node(id='Iterative Principle', type='Concept', properties={}), target=Node(id='Faster Delivery', type='Concept', properties={}), type='OUTCOME', properties={}), Relationship(source=Node(id='Agile Methodology', type='Concept', properties={}), target=Node(id='Adaptive Planning', type='Concept', properties={}), type='CHARACTERISTIC', properties={}), Relationship(source=Node(id='Agile Methodology', type='Concept', properties={}), target=Node(id='Evolutionary Development And Delivery', type='Concept', properties={}), type='CHARACTERISTIC', properties={}), Relationship(source=Node(id='Agile Methodology', type='Concept', properties={}), target=Node(id='Time-Boxed Iterative Approach', type='Concept', properties={}), type='CHARACTERISTIC', properties={}), Relationship(source=Node(id='Agile Methodology', type='Concept', properties={}), target=Node(id='Rapid And Flexible Responses To Change', type='Concept', properties={}), type='CHARACTERISTIC', properties={}), Relationship(source=Node(id='Agile Business Intelligence', type='Concept', properties={}), target=Node(id='Business Users', type='Concept', properties={}), type='ENCOURAGEMENT', properties={}), Relationship(source=Node(id='Agile Business Intelligence', type='Concept', properties={}), target=Node(id='It Professionals', type='Concept', properties={}), type='ENCOURAGEMENT', properties={}), Relationship(source=Node(id='Agile Business Intelligence', type='Concept', properties={}), target=Node(id='Data', type='Concept', properties={}), type='ENCOURAGEMENT', properties={}), Relationship(source=Node(id='Agile Business Intelligence', type='Concept', properties={}), target=Node(id='Total Cost Of Change (Tcc)', type='Concept', properties={}), type='OBJECTIVE', properties={}), Relationship(source=Node(id='Agile Business Intelligence', type='Concept', properties={}), target=Node(id='Bi Problem Solving', type='Concept', properties={}), type='OBJECTIVE', properties={}), Relationship(source=Node(id='Agile Business Intelligence', type='Concept', properties={}), target=Node(id='Bi Functionality', type='Concept', properties={}), type='OBJECTIVE', properties={}), Relationship(source=Node(id='Agile Business Intelligence', type='Concept', properties={}), target=Node(id='Development Cycles Documentation', type='Concept', properties={}), type='OBJECTIVE', properties={}), Relationship(source=Node(id='Agile Business Intelligence', type='Concept', properties={}), target=Node(id='Continual Process', type='Concept', properties={}), type='INTEGRATION', properties={}), Relationship(source=Node(id='Continual Process', type='Concept', properties={}), target=Node(id='Managers', type='Concept', properties={}), type='ENABLEMENT', properties={}), Relationship(source=Node(id='Continual Process', type='Concept', properties={}), target=Node(id='Product Data', type='Concept', properties={}), type='ACCESS', properties={}), Relationship(source=Node(id='Continual Process', type='Concept', properties={}), target=Node(id='Informed Decision-Making', type='Concept', properties={}), type='ENABLEMENT', properties={}), Relationship(source=Node(id='Agile Business Intelligence', type='Concept', properties={}), target=Node(id='Rapid Development', type='Concept', properties={}), type='INTEGRATION', properties={}), Relationship(source=Node(id='Rapid Development', type='Concept', properties={}), target=Node(id='Agile Methodology', type='Concept', properties={}), type='UTILIZATION', properties={}), Relationship(source=Node(id='Rapid Development', type='Concept', properties={}), target=Node(id='Agile Techniques', type='Concept', properties={}), type='UTILIZATION', properties={}), Relationship(source=Node(id='Agile Techniques', type='Concept', properties={}), target=Node(id='Bi Applications', type='Concept', properties={}), type='PROMOTION', properties={}), Relationship(source=Node(id='Agile Techniques', type='Concept', properties={}), target=Node(id='Dashboards', type='Concept', properties={}), type='PROMOTION', properties={}), Relationship(source=Node(id='Agile Techniques', type='Concept', properties={}), target=Node(id='Balanced Scorecards', type='Concept', properties={}), type='PROMOTION', properties={}), Relationship(source=Node(id='Agile Techniques', type='Concept', properties={}), target=Node(id='Reports', type='Concept', properties={}), type='PROMOTION', properties={}), Relationship(source=Node(id='Agile Techniques', type='Concept', properties={}), target=Node(id='Analytic Applications', type='Concept', properties={}), type='PROMOTION', properties={}), Relationship(source=Node(id='Agile Business Intelligence', type='Concept', properties={}), target=Node(id='Aberdeen Group', type='Concept', properties={}), type='INTEGRATION', properties={}), Relationship(source=Node(id='Aberdeen Group', type='Concept', properties={}), target=Node(id='Established Abi Implementations', type='Concept', properties={}), type='RESEARCH', properties={}), Relationship(source=Node(id='Established Abi Implementations', type='Concept', properties={}), target=Node(id='Processes For Ensuring Business Needs', type='Concept', properties={}), type='DEPENDENCY', properties={}), Relationship(source=Node(id='Established Abi Implementations', type='Concept', properties={}), target=Node(id='End User Participation', type='Concept', properties={}), type='DEPENDENCY', properties={}), Relationship(source=Node(id='Established Abi Implementations', type='Concept', properties={}), target=Node(id='Collaboration Between It And The Business', type='Concept', properties={}), type='DEPENDENCY', properties={}), Relationship(source=Node(id='Definition Of Agile Business Intelligence', type='Definition', properties={}), target=Node(id='Agile Business Intelligence', type='Concept', properties={}), type='DEFINITION', properties={}), Relationship(source=Node(id='Key Performance Criteria', type='Concept', properties={}), target=Node(id=\"Aberdeen'S Maturity Class Framework\", type='Concept', properties={}), type='INTEGRATION', properties={}), Relationship(source=Node(id=\"Aberdeen'S Maturity Class Framework\", type='Concept', properties={}), target=Node(id='Availability Of Timely Management Information', type='Concept', properties={}), type='PERFORMANCE_CRITERION', properties={}), Relationship(source=Node(id='Availability Of Timely Management Information', type='Concept', properties={}), target=Node(id='It', type='Concept', properties={}), type='INFORMATION_PROVISION', properties={}), Relationship(source=Node(id='Availability Of Timely Management Information', type='Concept', properties={}), target=Node(id='Business Managers', type='Concept', properties={}), type='INFORMATION_PROVISION', properties={}), Relationship(source=Node(id='Availability Of Timely Management Information', type='Concept', properties={}), target=Node(id='Sound Business Decisions', type='Concept', properties={}), type='OUTCOME', properties={}), Relationship(source=Node(id='Key Performance Criteria', type='Concept', properties={}), target=Node(id='Average Time To Add A Column', type='Concept', properties={}), type='PERFORMANCE_CRITERION', properties={})], source=Document(metadata={'title': 'Agile Business Intelligence', 'summary': 'Agile Business Intelligence (ABI) refers to the use of agile software development for Business Intelligence (BI) projects. ABI attempts to enable the BI team, business people, analysts and/ or stakeholders to make business decisions more quickly. \\nThere are multiple approaches for improving or increasing BI agility. Factors considered important for the success of ABI projects include: a holistic approach to BI architectures, organizational forms, and technologies; and the use of agile process models adapted to BI.\\nAgile methodology works on an iterative principle. This involves providing new features to end users sooner than with a traditional waterfall processes, which deliver only the final product. With this technique, the requirements and design phases overlap with development, thus reducing the development cycles to achieve faster delivery.  It promotes adaptive planning, evolutionary development and delivery, a time-boxed iterative approach, and encourages rapid and flexible responses to change. ABI encourages business users and IT professionals to think about their data differently, and aims to achieve a low total cost of change (TCC).  With ABI, the focus is not on solving every BI problem at once but rather on delivering pieces of BI functionality in manageable chunks via shorter development cycles and documenting each cycle as it happens.\\nAgile business intelligence is a continual process, enabling managers to access quick and accurate product data for informed decision-making. ABI enables rapid development using the agile methodology. Agile techniques are a way to promote the development of BI applications, such as dashboards, balanced scorecards, reports, and analytic applications.\\nAccording to the research by the Aberdeen Group, organizations with the most established ABI implementations are more likely to have processes in place for ensuring that business needs are being met.  The success of ABI implementation also heavily depends on end user participation and \"frequent collaboration between IT and the business.\"', 'source': 'https://en.wikipedia.org/wiki/Agile_Business_Intelligence'}, page_content='Agile Business Intelligence (ABI) refers to the use of agile software development for Business Intelligence (BI) projects. ABI attempts to enable the BI team, business people, analysts and/ or stakeholders to make business decisions more quickly. \\nThere are multiple approaches for improving or increasing BI agility. Factors considered important for the success of ABI projects include: a holistic approach to BI architectures, organizational forms, and technologies; and the use of agile process models adapted to BI.\\nAgile methodology works on an iterative principle. This involves providing new features to end users sooner than with a traditional waterfall processes, which deliver only the final product. With this technique, the requirements and design phases overlap with development, thus reducing the development cycles to achieve faster delivery.  It promotes adaptive planning, evolutionary development and delivery, a time-boxed iterative approach, and encourages rapid and flexible responses to change. ABI encourages business users and IT professionals to think about their data differently, and aims to achieve a low total cost of change (TCC).  With ABI, the focus is not on solving every BI problem at once but rather on delivering pieces of BI functionality in manageable chunks via shorter development cycles and documenting each cycle as it happens.\\nAgile business intelligence is a continual process, enabling managers to access quick and accurate product data for informed decision-making. ABI enables rapid development using the agile methodology. Agile techniques are a way to promote the development of BI applications, such as dashboards, balanced scorecards, reports, and analytic applications.\\nAccording to the research by the Aberdeen Group, organizations with the most established ABI implementations are more likely to have processes in place for ensuring that business needs are being met.  The success of ABI implementation also heavily depends on end user participation and \"frequent collaboration between IT and the business.\"\\n\\n\\n== Definition ==\\nAgile business intelligence (ABI) is a methodology that integrates processes, tools, and organizational structures to enable decision-makers to adapt more effectively to dynamic business and regulatory environments. \\n\\n\\n== Key performance criteria ==\\nAberdeen\\'s Maturity Class Framework uses three key performance criteria:\\n\\nAvailability of timely management information: IT should be able to provide the right and accurate information in a timely manner to the business managers to make sound business decisions. “This performance metric captures the frequency with which business users receive the information they need in the time-frame they need it.”\\nAverage time required to add a column to an existing')),\n",
              " GraphDocument(nodes=[Node(id='Average Time Required To Add A Column To An Existing Report', type='Metric', properties={}), Node(id='Average Time Required To Create A New Dashboard', type='Metric', properties={}), Node(id='Agile Development Methodology', type='Methodology', properties={}), Node(id='Agile Project Management Methodology', type='Methodology', properties={}), Node(id='Agile Infrastructure', type='Infrastructure', properties={})], relationships=[Relationship(source=Node(id='Average Time Required To Add A Column To An Existing Report', type='Metric', properties={}), target=Node(id='Average Time Required To Add A Column To An Existing Report', type='Metric', properties={}), type='MEASURES', properties={}), Relationship(source=Node(id='Average Time Required To Create A New Dashboard', type='Metric', properties={}), target=Node(id='Average Time Required To Create A New Dashboard', type='Metric', properties={}), type='MEASURES', properties={}), Relationship(source=Node(id='Agile Development Methodology', type='Methodology', properties={}), target=Node(id='Average Time Required To Add A Column To An Existing Report', type='Metric', properties={}), type='PROMOTES', properties={}), Relationship(source=Node(id='Agile Development Methodology', type='Methodology', properties={}), target=Node(id='Average Time Required To Create A New Dashboard', type='Metric', properties={}), type='PROMOTES', properties={}), Relationship(source=Node(id='Agile Project Management Methodology', type='Methodology', properties={}), target=Node(id='Average Time Required To Add A Column To An Existing Report', type='Metric', properties={}), type='PROMOTES', properties={}), Relationship(source=Node(id='Agile Project Management Methodology', type='Methodology', properties={}), target=Node(id='Average Time Required To Create A New Dashboard', type='Metric', properties={}), type='PROMOTES', properties={}), Relationship(source=Node(id='Agile Infrastructure', type='Infrastructure', properties={}), target=Node(id='Average Time Required To Add A Column To An Existing Report', type='Metric', properties={}), type='PROMOTES', properties={}), Relationship(source=Node(id='Agile Infrastructure', type='Infrastructure', properties={}), target=Node(id='Average Time Required To Create A New Dashboard', type='Metric', properties={}), type='PROMOTES', properties={})], source=Document(metadata={'title': 'Agile Business Intelligence', 'summary': 'Agile Business Intelligence (ABI) refers to the use of agile software development for Business Intelligence (BI) projects. ABI attempts to enable the BI team, business people, analysts and/ or stakeholders to make business decisions more quickly. \\nThere are multiple approaches for improving or increasing BI agility. Factors considered important for the success of ABI projects include: a holistic approach to BI architectures, organizational forms, and technologies; and the use of agile process models adapted to BI.\\nAgile methodology works on an iterative principle. This involves providing new features to end users sooner than with a traditional waterfall processes, which deliver only the final product. With this technique, the requirements and design phases overlap with development, thus reducing the development cycles to achieve faster delivery.  It promotes adaptive planning, evolutionary development and delivery, a time-boxed iterative approach, and encourages rapid and flexible responses to change. ABI encourages business users and IT professionals to think about their data differently, and aims to achieve a low total cost of change (TCC).  With ABI, the focus is not on solving every BI problem at once but rather on delivering pieces of BI functionality in manageable chunks via shorter development cycles and documenting each cycle as it happens.\\nAgile business intelligence is a continual process, enabling managers to access quick and accurate product data for informed decision-making. ABI enables rapid development using the agile methodology. Agile techniques are a way to promote the development of BI applications, such as dashboards, balanced scorecards, reports, and analytic applications.\\nAccording to the research by the Aberdeen Group, organizations with the most established ABI implementations are more likely to have processes in place for ensuring that business needs are being met.  The success of ABI implementation also heavily depends on end user participation and \"frequent collaboration between IT and the business.\"', 'source': 'https://en.wikipedia.org/wiki/Agile_Business_Intelligence'}, page_content=' they need in the time-frame they need it.”\\nAverage time required to add a column to an existing report: Sometimes new columns need to be added to an existing report to see the required information. \"If that information cannot be obtained within the time required to support the decision at hand, the information has no material value. This metric measures the total elapsed time required to modify an existing report by adding a column.\"\\nAverage time required to create a new dashboard: This metric considers the time required to access any new or updated information and it measures the total elapsed time required to create a new dashboard. \\n\\n\\n== Five Steps to Agile BI ==\\nBruni  in her article 5 Steps to Agile BI, outlines the five elements that promote an ABI enterprise environment.\\n\\nAgile Development Methodology: “Need for an agile, iterative process that speeds the time to market of BI requests by shortening development cycles.”\\nAgile Project Management Methodology: Continuous planning and execution. Planning is done at the beginning of each cycle, rather than one time at the beginning of the project as in traditional projects. In Agile project, scope can be changed any time during the development phase.\\nAgile Infrastructure: The system should have virtualization and horizontal scaling cap')),\n",
              " GraphDocument(nodes=[Node(id='Financial Intelligence', type='Concept', properties={}), Node(id='Business Intelligence', type='Concept', properties={}), Node(id='Finance', type='Concept', properties={}), Node(id='Accounting Principles', type='Concept', properties={}), Node(id='Organizational Development Research', type='Concept', properties={}), Node(id='Employee Participation', type='Concept', properties={}), Node(id='Best Practice', type='Concept', properties={}), Node(id='Core Competency', type='Concept', properties={}), Node(id='Leadership Development Curriculum', type='Concept', properties={}), Node(id='Foundation (Financial Intelligence)', type='Concept', properties={}), Node(id='Income Statement', type='Concept', properties={}), Node(id='Balance Sheet', type='Concept', properties={}), Node(id='Cash Flow Statement', type='Concept', properties={}), Node(id='Cash', type='Concept', properties={}), Node(id='Profit', type='Concept', properties={}), Node(id='Art (Finance And Accounting)', type='Concept', properties={}), Node(id='Analysis (Financial Intelligence)', type='Concept', properties={}), Node(id='Profitability', type='Concept', properties={}), Node(id='Leverage', type='Concept', properties={}), Node(id='Liquidity', type='Concept', properties={}), Node(id='Efficiency Ratios', type='Concept', properties={}), Node(id='Roi Analysis', type='Concept', properties={}), Node(id='Big Picture (Financial Intelligence)', type='Concept', properties={}), Node(id='Economy', type='Concept', properties={}), Node(id='Competitive Environment', type='Concept', properties={}), Node(id='Regulations', type='Concept', properties={}), Node(id='Customer Needs', type='Concept', properties={}), Node(id='Technologies', type='Concept', properties={}), Node(id='Managers', type='Concept', properties={}), Node(id='Corporate World', type='Concept', properties={}), Node(id='Language (Financial Intelligence)', type='Concept', properties={}), Node(id='Financial Reports', type='Concept', properties={}), Node(id='Strengths And Weaknesses', type='Concept', properties={}), Node(id='Working Capital Management', type='Concept', properties={}), Node(id='Ratio Analysis', type='Concept', properties={}), Node(id='Peter F. Drucker', type='Person', properties={}), Node(id='The Practice Of Management', type='Concept', properties={})], relationships=[Relationship(source=Node(id='Financial Intelligence', type='Concept', properties={}), target=Node(id='Business Intelligence', type='Concept', properties={}), type='TYPE_OF', properties={}), Relationship(source=Node(id='Financial Intelligence', type='Concept', properties={}), target=Node(id='Knowledge And Skills', type='Concept', properties={}), type='CONSTITUTED_OF', properties={}), Relationship(source=Node(id='Financial Intelligence', type='Concept', properties={}), target=Node(id='Finance', type='Concept', properties={}), type='UNDERSTANDING', properties={}), Relationship(source=Node(id='Financial Intelligence', type='Concept', properties={}), target=Node(id='Accounting Principles', type='Concept', properties={}), type='UNDERSTANDING', properties={}), Relationship(source=Node(id='Financial Intelligence', type='Concept', properties={}), target=Node(id='Organizational Development Research', type='Concept', properties={}), type='ROOTS_IN', properties={}), Relationship(source=Node(id='Financial Intelligence', type='Concept', properties={}), target=Node(id='Employee Participation', type='Concept', properties={}), type='ROOTS_IN', properties={}), Relationship(source=Node(id='Financial Intelligence', type='Concept', properties={}), target=Node(id='Best Practice', type='Concept', properties={}), type='EMERGENCE_AS', properties={}), Relationship(source=Node(id='Financial Intelligence', type='Concept', properties={}), target=Node(id='Core Competency', type='Concept', properties={}), type='EMERGENCE_AS', properties={}), Relationship(source=Node(id='Financial Intelligence', type='Concept', properties={}), target=Node(id='Organizations', type='Concept', properties={}), type='IMPACT_ON', properties={}), Relationship(source=Node(id='Financial Intelligence', type='Concept', properties={}), target=Node(id='Financial Results', type='Concept', properties={}), type='IMPROVEMENT_OF', properties={}), Relationship(source=Node(id='Financial Intelligence', type='Concept', properties={}), target=Node(id='Employee Morale', type='Concept', properties={}), type='INCREASE_OF', properties={}), Relationship(source=Node(id='Financial Intelligence', type='Concept', properties={}), target=Node(id='Employee Turnover', type='Concept', properties={}), type='REDUCTION_OF', properties={}), Relationship(source=Node(id='Organizations', type='Concept', properties={}), target=Node(id='Leadership Development Curriculum', type='Concept', properties={}), type='INCLUSION_IN', properties={}), Relationship(source=Node(id='Financial Intelligence', type='Concept', properties={}), target=Node(id='Areas Of Understanding', type='Concept', properties={}), type='COMPRISED_OF', properties={}), Relationship(source=Node(id='Areas Of Understanding', type='Concept', properties={}), target=Node(id='Foundation (Financial Intelligence)', type='Concept', properties={}), type='UNDERSTANDING_OF', properties={}), Relationship(source=Node(id='Areas Of Understanding', type='Concept', properties={}), target=Node(id='Art (Finance And Accounting)', type='Concept', properties={}), type='UNDERSTANDING_OF', properties={}), Relationship(source=Node(id='Areas Of Understanding', type='Concept', properties={}), target=Node(id='Analysis (Financial Intelligence)', type='Concept', properties={}), type='UNDERSTANDING_OF', properties={}), Relationship(source=Node(id='Areas Of Understanding', type='Concept', properties={}), target=Node(id='Big Picture (Financial Intelligence)', type='Concept', properties={}), type='UNDERSTANDING_OF', properties={}), Relationship(source=Node(id='Foundation (Financial Intelligence)', type='Concept', properties={}), target=Node(id='Income Statement', type='Concept', properties={}), type='UNDERSTANDING_OF', properties={}), Relationship(source=Node(id='Foundation (Financial Intelligence)', type='Concept', properties={}), target=Node(id='Balance Sheet', type='Concept', properties={}), type='UNDERSTANDING_OF', properties={}), Relationship(source=Node(id='Foundation (Financial Intelligence)', type='Concept', properties={}), target=Node(id='Cash Flow Statement', type='Concept', properties={}), type='UNDERSTANDING_OF', properties={}), Relationship(source=Node(id='Foundation (Financial Intelligence)', type='Concept', properties={}), target=Node(id='Cash', type='Concept', properties={}), type='UNDERSTANDING_OF', properties={}), Relationship(source=Node(id='Foundation (Financial Intelligence)', type='Concept', properties={}), target=Node(id='Profit', type='Concept', properties={}), type='UNDERSTANDING_OF', properties={}), Relationship(source=Node(id='Foundation (Financial Intelligence)', type='Concept', properties={}), target=Node(id='Difference', type='Concept', properties={}), type='UNDERSTANDING_OF', properties={}), Relationship(source=Node(id='Art (Finance And Accounting)', type='Concept', properties={}), target=Node(id='Quantification', type='Concept', properties={}), type='REQUIREMENT_OF', properties={}), Relationship(source=Node(id='Art (Finance And Accounting)', type='Concept', properties={}), target=Node(id='Rules', type='Concept', properties={}), type='RELIANCE_ON', properties={}), Relationship(source=Node(id='Art (Finance And Accounting)', type='Concept', properties={}), target=Node(id='Estimates', type='Concept', properties={}), type='RELIANCE_ON', properties={}), Relationship(source=Node(id='Art (Finance And Accounting)', type='Concept', properties={}), target=Node(id='Assumptions', type='Concept', properties={}), type='RELIANCE_ON', properties={}), Relationship(source=Node(id='Analysis (Financial Intelligence)', type='Concept', properties={}), target=Node(id='Numbers', type='Concept', properties={}), type='ABILITY_TO_ANALYZE', properties={}), Relationship(source=Node(id='Analysis (Financial Intelligence)', type='Concept', properties={}), target=Node(id='Profitability', type='Concept', properties={}), type='CALCULATION_OF', properties={}), Relationship(source=Node(id='Analysis (Financial Intelligence)', type='Concept', properties={}), target=Node(id='Leverage', type='Concept', properties={}), type='CALCULATION_OF', properties={}), Relationship(source=Node(id='Analysis (Financial Intelligence)', type='Concept', properties={}), target=Node(id='Liquidity', type='Concept', properties={}), type='CALCULATION_OF', properties={}), Relationship(source=Node(id='Analysis (Financial Intelligence)', type='Concept', properties={}), target=Node(id='Efficiency Ratios', type='Concept', properties={}), type='CALCULATION_OF', properties={}), Relationship(source=Node(id='Analysis (Financial Intelligence)', type='Concept', properties={}), target=Node(id='Roi Analysis', type='Concept', properties={}), type='INCLUSION_OF', properties={}), Relationship(source=Node(id='Analysis (Financial Intelligence)', type='Concept', properties={}), target=Node(id='Interpretation', type='Concept', properties={}), type='REQUIREMENT_OF', properties={}), Relationship(source=Node(id='Big Picture (Financial Intelligence)', type='Concept', properties={}), target=Node(id='Business', type='Concept', properties={}), type='CONTEXT_OF', properties={}), Relationship(source=Node(id='Big Picture (Financial Intelligence)', type='Concept', properties={}), target=Node(id='Financial Results', type='Concept', properties={}), type='CONTEXT_OF', properties={}), Relationship(source=Node(id='Big Picture (Financial Intelligence)', type='Concept', properties={}), target=Node(id='Economy', type='Concept', properties={}), type='CONSIDERATION_OF', properties={}), Relationship(source=Node(id='Big Picture (Financial Intelligence)', type='Concept', properties={}), target=Node(id='Competitive Environment', type='Concept', properties={}), type='CONSIDERATION_OF', properties={}), Relationship(source=Node(id='Big Picture (Financial Intelligence)', type='Concept', properties={}), target=Node(id='Regulations', type='Concept', properties={}), type='CONSIDERATION_OF', properties={}), Relationship(source=Node(id='Big Picture (Financial Intelligence)', type='Concept', properties={}), target=Node(id='Customer Needs', type='Concept', properties={}), type='CONSIDERATION_OF', properties={}), Relationship(source=Node(id='Big Picture (Financial Intelligence)', type='Concept', properties={}), target=Node(id='Technologies', type='Concept', properties={}), type='CONSIDERATION_OF', properties={}), Relationship(source=Node(id='Managers', type='Concept', properties={}), target=Node(id='Financial Intelligence', type='Concept', properties={}), type='DISPLAY_OF', properties={}), Relationship(source=Node(id='Managers', type='Concept', properties={}), target=Node(id='Language (Financial Intelligence)', type='Concept', properties={}), type='USAGE_OF', properties={}), Relationship(source=Node(id='Managers', type='Concept', properties={}), target=Node(id='Questions', type='Concept', properties={}), type='ASKING_ABOUT', properties={}), Relationship(source=Node(id='Managers', type='Concept', properties={}), target=Node(id='Financial Reports', type='Concept', properties={}), type='REVIEWING', properties={}), Relationship(source=Node(id='Managers', type='Concept', properties={}), target=Node(id='Information', type='Concept', properties={}), type='USAGE_OF', properties={}), Relationship(source=Node(id='Managers', type='Concept', properties={}), target=Node(id='Strengths And Weaknesses', type='Concept', properties={}), type='UNDERSTANDING_OF', properties={}), Relationship(source=Node(id='Managers', type='Concept', properties={}), target=Node(id='Roi Analysis', type='Concept', properties={}), type='USAGE_OF', properties={}), Relationship(source=Node(id='Managers', type='Concept', properties={}), target=Node(id='Working Capital Management', type='Concept', properties={}), type='USAGE_OF', properties={}), Relationship(source=Node(id='Managers', type='Concept', properties={}), target=Node(id='Ratio Analysis', type='Concept', properties={}), type='USAGE_OF', properties={}), Relationship(source=Node(id='Managers', type='Concept', properties={}), target=Node(id='Art (Finance And Accounting)', type='Concept', properties={}), type='IDENTIFICATION_OF', properties={}), Relationship(source=Node(id='Peter F. Drucker', type='Person', properties={}), target=Node(id='The Practice Of Management', type='Concept', properties={}), type='AUTHOR_OF', properties={})], source=Document(metadata={'title': 'Financial intelligence (business)', 'summary': 'Financial intelligence is a type of business intelligence constituted of the knowledge and skills gained from understanding finance and accounting principles in the business world and understanding how money is being used. Although a fairly new term, financial intelligence has its roots in organizational development research, mostly in the field of employee participation. Financial intelligence has emerged as a best practice and core competency in many organizations leading to improved financial results, increased employee morale, and reduced employee turnover. Many organizations include financial intelligence programs in their leadership development curriculum. Financial intelligence is not an innate skill, rather it is a learned set of skills that can be developed at all levels.', 'source': 'https://en.wikipedia.org/wiki/Financial_intelligence_(business)'}, page_content=\"Financial intelligence is a type of business intelligence constituted of the knowledge and skills gained from understanding finance and accounting principles in the business world and understanding how money is being used. Although a fairly new term, financial intelligence has its roots in organizational development research, mostly in the field of employee participation. Financial intelligence has emerged as a best practice and core competency in many organizations leading to improved financial results, increased employee morale, and reduced employee turnover. Many organizations include financial intelligence programs in their leadership development curriculum. Financial intelligence is not an innate skill, rather it is a learned set of skills that can be developed at all levels.\\n\\n\\n== Areas of understanding ==\\nThe four areas of understanding that make up financial intelligence are:\\nUnderstanding the foundation. Financial intelligence requires an understanding of the basics of financial measurement including the income statement, the balance sheet, and the cash flow statement. It also requires knowing the difference between cash and profit and why a balance sheet balances.\\nUnderstanding the art. Finance and accounting are an art as well as a science. The two disciplines must try to quantify what can't always be quantified, and so must rely on rules, estimates, and assumptions. Financial intelligence ensures people are able to identify where the artful aspects of finance have been applied to the numbers, and know how applying them differently might lead to different conclusions.\\nUnderstanding analysis. Financial intelligence includes the ability to analyze the numbers in greater depth. This includes being able to calculate profitability, leverage, liquidity and efficiency ratios and understanding the meaning of the results. Conducting ROI analysis and interpreting the results are also part of financial intelligence.\\nUnderstanding the big picture. Financial intelligence also means being able to understand a business's financial results in context - that is, within the framework of the big picture. Factors such as the economy, the competitive environment, regulations and changing customer needs and expectations as well as new technologies all affect how the numbers are interpreted.\\nFinancial intelligence is not just theoretical book learning. It also requires practice and real world application. In the corporate world, managers can display financial intelligence by speaking the language, that is, asking questions about the numbers when something doesn't make sense, reviewing financial reports and using the information to understand the company's strengths and weaknesses, using ROI analysis, working capital management, and ratio analysis to make decisions, and identifying where the art of finance has been applied.\\n\\n\\n== Roots of financial intelligence ==\\nIn 1954, Peter F. Drucker, in his groundbreaking book, The Practice of Management, wrote the following. \")),\n",
              " GraphDocument(nodes=[Node(id='Peter F. Drucker', type='Person', properties={}), Node(id='The Practice Of Management', type='Book', properties={}), Node(id='Worker', type='Concept', properties={}), Node(id='Enterprise', type='Concept', properties={}), Node(id='Organization', type='Concept', properties={}), Node(id='Financial Intelligence', type='Concept', properties={}), Node(id='Dennis Denison', type='Person', properties={}), Node(id='Edward Lawler', type='Person', properties={}), Node(id='Jeffrey Pfeffer', type='Person', properties={}), Node(id='Lawler, Mohrman And Ledford', type='Person', properties={}), Node(id='Indices', type='Concept', properties={}), Node(id='Direct Performance Outcomes', type='Concept', properties={}), Node(id='Productivity', type='Concept', properties={}), Node(id='Customer Satisfaction', type='Concept', properties={}), Node(id='Quality', type='Concept', properties={}), Node(id='Speed', type='Concept', properties={}), Node(id='Profitability', type='Concept', properties={}), Node(id='Competitiveness', type='Concept', properties={}), Node(id='Sharing Information', type='Concept', properties={}), Node(id='Developing Knowledge', type='Concept', properties={}), Node(id='Karen Berman', type='Person', properties={})], relationships=[Relationship(source=Node(id='Peter F. Drucker', type='Person', properties={}), target=Node(id='The Practice Of Management', type='Book', properties={}), type='AUTHOR', properties={}), Relationship(source=Node(id='Peter F. Drucker', type='Person', properties={}), target=Node(id='Worker', type='Concept', properties={}), type='MENTIONED', properties={}), Relationship(source=Node(id='Peter F. Drucker', type='Person', properties={}), target=Node(id='Enterprise', type='Concept', properties={}), type='MENTIONED', properties={}), Relationship(source=Node(id='Worker', type='Concept', properties={}), target=Node(id='Enterprise', type='Concept', properties={}), type='RELATES_TO', properties={}), Relationship(source=Node(id='Worker', type='Concept', properties={}), target=Node(id='Organization', type='Concept', properties={}), type='MENTIONED', properties={}), Relationship(source=Node(id='Organization', type='Concept', properties={}), target=Node(id='Worker', type='Concept', properties={}), type='HAVE', properties={}), Relationship(source=Node(id='Organization', type='Concept', properties={}), target=Node(id='Financial Intelligence', type='Concept', properties={}), type='HAVE', properties={}), Relationship(source=Node(id='Dennis Denison', type='Person', properties={}), target=Node(id='Financial Intelligence', type='Concept', properties={}), type='MENTIONED', properties={}), Relationship(source=Node(id='Edward Lawler', type='Person', properties={}), target=Node(id='Financial Intelligence', type='Concept', properties={}), type='MENTIONED', properties={}), Relationship(source=Node(id='Jeffrey Pfeffer', type='Person', properties={}), target=Node(id='Financial Intelligence', type='Concept', properties={}), type='MENTIONED', properties={}), Relationship(source=Node(id='Lawler, Mohrman And Ledford', type='Person', properties={}), target=Node(id='Indices', type='Concept', properties={}), type='FOUND', properties={}), Relationship(source=Node(id='Indices', type='Concept', properties={}), target=Node(id='Direct Performance Outcomes', type='Concept', properties={}), type='IMPACT_ON', properties={}), Relationship(source=Node(id='Indices', type='Concept', properties={}), target=Node(id='Profitability', type='Concept', properties={}), type='IMPACT_ON', properties={}), Relationship(source=Node(id='Indices', type='Concept', properties={}), target=Node(id='Competitiveness', type='Concept', properties={}), type='IMPACT_ON', properties={}), Relationship(source=Node(id='Indices', type='Concept', properties={}), target=Node(id='Sharing Information', type='Concept', properties={}), type='IMPACT_ON', properties={}), Relationship(source=Node(id='Indices', type='Concept', properties={}), target=Node(id='Developing Knowledge', type='Concept', properties={}), type='IMPACT_ON', properties={}), Relationship(source=Node(id='Lawler, Mohrman And Ledford', type='Person', properties={}), target=Node(id='Productivity', type='Concept', properties={}), type='IMPACT_ON', properties={}), Relationship(source=Node(id='Lawler, Mohrman And Ledford', type='Person', properties={}), target=Node(id='Customer Satisfaction', type='Concept', properties={}), type='IMPACT_ON', properties={}), Relationship(source=Node(id='Lawler, Mohrman And Ledford', type='Person', properties={}), target=Node(id='Quality', type='Concept', properties={}), type='IMPACT_ON', properties={}), Relationship(source=Node(id='Lawler, Mohrman And Ledford', type='Person', properties={}), target=Node(id='Speed', type='Concept', properties={}), type='IMPACT_ON', properties={}), Relationship(source=Node(id='Karen Berman', type='Person', properties={}), target=Node(id='Financial Intelligence', type='Concept', properties={}), type='MENTIONED', properties={})], source=Document(metadata={'title': 'Financial intelligence (business)', 'summary': 'Financial intelligence is a type of business intelligence constituted of the knowledge and skills gained from understanding finance and accounting principles in the business world and understanding how money is being used. Although a fairly new term, financial intelligence has its roots in organizational development research, mostly in the field of employee participation. Financial intelligence has emerged as a best practice and core competency in many organizations leading to improved financial results, increased employee morale, and reduced employee turnover. Many organizations include financial intelligence programs in their leadership development curriculum. Financial intelligence is not an innate skill, rather it is a learned set of skills that can be developed at all levels.', 'source': 'https://en.wikipedia.org/wiki/Financial_intelligence_(business)'}, page_content='In 1954, Peter F. Drucker, in his groundbreaking book, The Practice of Management, wrote the following. \\n\"[The worker] should know how his work relates to the work of the whole. He should know what he contributes to the enterprise...if he lacks information, he will lack both incentive and means to improve his performance.\" \\n\\n\"It is in the best interest of the organization that the worker have the information.\"\\n\\nThe concept of financial intelligence in organizations comes from the research of several well-known organizational development academics, including Dennis Denison, Edward Lawler and Jeffrey Pfeffer. For example, the research of Lawler, Mohrman and Ledford  found that the indices that have the most impact on both direct performance outcomes in organizations (productivity, customer satisfaction, quality and speed) and on profitability and competitiveness were sharing information and developing knowledge.\\nKaren Berman\\'s research, asked specifically if information (operationalized by teaching business basics to improve financial intelligence and sharing information on a regular'))]"
            ]
          },
          "metadata": {},
          "execution_count": 21
        }
      ]
    },
    {
      "cell_type": "code",
      "source": [
        "# dropping the graph document intothe neo4j database\n",
        "graph.add_graph_documents(\n",
        "    graph_document,\n",
        "    baseEntityLabel=True,\n",
        "    include_source=True\n",
        ")"
      ],
      "metadata": {
        "id": "BOwp2XSnBrgN"
      },
      "execution_count": 22,
      "outputs": []
    },
    {
      "cell_type": "code",
      "source": [
        "from yfiles_jupyter_graphs import GraphWidget\n",
        "from neo4j import GraphDatabase\n"
      ],
      "metadata": {
        "id": "tPqZZBeqB6gF"
      },
      "execution_count": 23,
      "outputs": []
    },
    {
      "cell_type": "code",
      "source": [
        "# querying neo4j database using cypher syntax\n",
        "# exploring connections in a knowledge graph, e.g., finding which people or documents mention each other.\n",
        "\n",
        "default_cypher = \"MATCH (s)-[r:!MENTIONS]->(t) RETURN s, r, t LIMIT 50\"\n"
      ],
      "metadata": {
        "id": "qXhhfNrNCcEj"
      },
      "execution_count": 24,
      "outputs": []
    },
    {
      "cell_type": "code",
      "source": [
        "def showGraph(cypher:str = default_cypher):\n",
        "  # creating neo4j session\n",
        "  driver = GraphDatabase.driver(\n",
        "      uri=os.environ['NEO4J_URI'],\n",
        "      auth=(os.environ['NEO4J_USERNAME'],\n",
        "            os.environ['NEO4J_PASSWORD']))\n",
        "  session = driver.session()\n",
        "  widget_dr =  GraphWidget(graph=session.run(cypher).graph())\n",
        "  widget_dr.node_label_mapping = 'id'\n",
        "  display(widget_dr)\n",
        "  return widget_dr\n"
      ],
      "metadata": {
        "id": "-cdr9hNsCUbj"
      },
      "execution_count": 25,
      "outputs": []
    },
    {
      "cell_type": "code",
      "source": [
        "showGraph()"
      ],
      "metadata": {
        "colab": {
          "base_uri": "https://localhost:8080/",
          "height": 1000,
          "referenced_widgets": [
            "8128ad02eae5470f88127bbc4364877d",
            "c3ded9b0c6b044c7a8605beb307029a1"
          ]
        },
        "id": "QJQ8iJZrF2iB",
        "outputId": "db129839-03d0-4ffe-d3d8-c3f90b8039c1"
      },
      "execution_count": 26,
      "outputs": [
        {
          "output_type": "display_data",
          "data": {
            "text/plain": [
              "GraphWidget(layout=Layout(height='800px', width='100%'))"
            ],
            "application/vnd.jupyter.widget-view+json": {
              "version_major": 2,
              "version_minor": 0,
              "model_id": "8128ad02eae5470f88127bbc4364877d"
            }
          },
          "metadata": {
            "application/vnd.jupyter.widget-view+json": {
              "colab": {
                "custom_widget_manager": {
                  "url": "https://ssl.gstatic.com/colaboratory-static/widgets/colab-cdn-widget-manager/2b70e893a8ba7c0f/manager.min.js"
                }
              }
            }
          }
        },
        {
          "output_type": "display_data",
          "data": {
            "text/plain": [
              "GraphWidget(layout=Layout(height='800px', width='100%'))"
            ],
            "application/vnd.jupyter.widget-view+json": {
              "version_major": 2,
              "version_minor": 0,
              "model_id": "8128ad02eae5470f88127bbc4364877d"
            }
          },
          "metadata": {
            "application/vnd.jupyter.widget-view+json": {
              "colab": {
                "custom_widget_manager": {
                  "url": "https://ssl.gstatic.com/colaboratory-static/widgets/colab-cdn-widget-manager/2b70e893a8ba7c0f/manager.min.js"
                }
              }
            }
          }
        }
      ]
    },
    {
      "cell_type": "code",
      "source": [
        "from typing import List, Optional, Tuple"
      ],
      "metadata": {
        "id": "qUmfDHm4J4n3"
      },
      "execution_count": 27,
      "outputs": []
    },
    {
      "cell_type": "code",
      "source": [
        "graph.query(\"CREATE FULLTEXT INDEX entity IF NOT EXISTS FOR (e:__Entity__) ON EACH [e.id]\")"
      ],
      "metadata": {
        "colab": {
          "base_uri": "https://localhost:8080/"
        },
        "id": "EQE5AoW-jhaf",
        "outputId": "bd0f5f9c-e68a-4c84-bf33-4bac02997e23"
      },
      "execution_count": 28,
      "outputs": [
        {
          "output_type": "execute_result",
          "data": {
            "text/plain": [
              "[]"
            ]
          },
          "metadata": {},
          "execution_count": 28
        }
      ]
    },
    {
      "cell_type": "code",
      "source": [
        "#Embedding the document  and creating vector\n",
        "from langchain_community.vectorstores import Neo4jVector\n",
        "from langchain.embeddings import OpenAIEmbeddings\n",
        "\n",
        "vector_index = Neo4jVector.from_existing_graph(\n",
        "    OpenAIEmbeddings(),\n",
        "    search_type='hybrid',\n",
        "    node_label='Document',\n",
        "    text_node_properties=['text'],\n",
        "    embedding_node_property='embedding'\n",
        ")"
      ],
      "metadata": {
        "colab": {
          "base_uri": "https://localhost:8080/"
        },
        "id": "Uo8F1LdIHJmr",
        "outputId": "09a1dc18-7997-418b-8b90-16899b1c06a3"
      },
      "execution_count": 29,
      "outputs": [
        {
          "output_type": "stream",
          "name": "stderr",
          "text": [
            "<ipython-input-29-02bcf096b5f3>:6: LangChainDeprecationWarning: The class `OpenAIEmbeddings` was deprecated in LangChain 0.0.9 and will be removed in 1.0. An updated version of the class exists in the :class:`~langchain-openai package and should be used instead. To use it run `pip install -U :class:`~langchain-openai` and import as `from :class:`~langchain_openai import OpenAIEmbeddings``.\n",
            "  OpenAIEmbeddings(),\n"
          ]
        }
      ]
    },
    {
      "cell_type": "code",
      "source": [
        "from langchain_core.prompts import ChatPromptTemplate\n",
        "from langchain_core.prompts.prompt import PromptTemplate"
      ],
      "metadata": {
        "id": "6lVeIyvdIjXS"
      },
      "execution_count": 30,
      "outputs": []
    },
    {
      "cell_type": "code",
      "source": [
        "prompt = ChatPromptTemplate.from_messages(\n",
        "    [\n",
        "        (\n",
        "            \"system\",\n",
        "            \"You are extracting organization and person entities from the text.\"\n",
        "        ),\n",
        "        (\n",
        "            \"human\",\n",
        "            \"Use the following format to extract information from the following\"\n",
        "            \"input: {question}\",\n",
        "        )\n",
        "    ]\n",
        ")"
      ],
      "metadata": {
        "id": "w5ISrbAjJYl8"
      },
      "execution_count": 31,
      "outputs": []
    },
    {
      "cell_type": "code",
      "source": [
        "# creating an entity\n",
        "from langchain_core.pydantic_v1 import BaseModel, Field\n",
        "# Extract entities from text\n",
        "class Entities(BaseModel):\n",
        "    \"\"\"Entities from text.\"\"\"\n",
        "\n",
        "    names:List[str] = Field(\n",
        "        ...,\n",
        "        description = \"All the entities that appear in the text\"\n",
        "    )\n",
        "# i can exempt some entities"
      ],
      "metadata": {
        "colab": {
          "base_uri": "https://localhost:8080/"
        },
        "id": "-HqeXNgDMIlL",
        "outputId": "e62cbe42-08ae-4fc9-87b9-24ff7614cff9"
      },
      "execution_count": 32,
      "outputs": [
        {
          "output_type": "stream",
          "name": "stderr",
          "text": [
            "/usr/local/lib/python3.10/dist-packages/IPython/core/interactiveshell.py:3553: LangChainDeprecationWarning: As of langchain-core 0.3.0, LangChain uses pydantic v2 internally. The langchain_core.pydantic_v1 module was a compatibility shim for pydantic v1, and should no longer be used. Please update the code to import from Pydantic directly.\n",
            "\n",
            "For example, replace imports like: `from langchain_core.pydantic_v1 import BaseModel`\n",
            "with: `from pydantic import BaseModel`\n",
            "or the v1 compatibility namespace if you are working in a code base that has not been fully upgraded to pydantic 2 yet. \tfrom pydantic.v1 import BaseModel\n",
            "\n",
            "  exec(code_obj, self.user_global_ns, self.user_ns)\n"
          ]
        }
      ]
    },
    {
      "cell_type": "code",
      "source": [
        "\n",
        "entity_chain = prompt | llm.with_structured_output(Entities)"
      ],
      "metadata": {
        "colab": {
          "base_uri": "https://localhost:8080/"
        },
        "id": "cknKigUcML_X",
        "outputId": "38e62446-6264-4196-cce1-cf8fb7bab034"
      },
      "execution_count": 33,
      "outputs": [
        {
          "output_type": "stream",
          "name": "stderr",
          "text": [
            "/usr/local/lib/python3.10/dist-packages/langchain_openai/chat_models/base.py:1362: UserWarning: Received a Pydantic BaseModel V1 schema. This is not supported by method=\"json_schema\". Please use method=\"function_calling\" or specify schema via JSON Schema or Pydantic V2 BaseModel. Overriding to method=\"function_calling\".\n",
            "  warnings.warn(\n",
            "/usr/local/lib/python3.10/dist-packages/langchain_openai/chat_models/base.py:1375: UserWarning: Cannot use method='json_schema' with model gpt-3.5-turbo-0125 since it doesn't support OpenAI's Structured Output API. You can see supported models here: https://platform.openai.com/docs/guides/structured-outputs#supported-models. To fix this warning, set `method='function_calling'. Overriding to method='function_calling'.\n",
            "  warnings.warn(\n"
          ]
        }
      ]
    },
    {
      "cell_type": "code",
      "source": [
        "#giving me the entity, name. all meaniful entities are extracted from the text\n",
        "entity_chain.invoke({'question': 'What is business ?'}).names"
      ],
      "metadata": {
        "colab": {
          "base_uri": "https://localhost:8080/"
        },
        "id": "X-3oOnFFMjEL",
        "outputId": "fc5e4775-2efc-4ace-c103-8391000cd2ac"
      },
      "execution_count": 40,
      "outputs": [
        {
          "output_type": "execute_result",
          "data": {
            "text/plain": [
              "['business']"
            ]
          },
          "metadata": {},
          "execution_count": 40
        }
      ]
    },
    {
      "cell_type": "code",
      "source": [],
      "metadata": {
        "id": "8vTB8LG3h3Td"
      },
      "execution_count": 40,
      "outputs": []
    },
    {
      "cell_type": "code",
      "source": [
        "from langchain_community.vectorstores.neo4j_vector import remove_lucene_chars\n",
        "\n",
        "def generate_full_text_query(input: str) -> str:\n",
        "    full_text_query = \"\"\n",
        "    words = [el for el in remove_lucene_chars(input).split() if el] #remove special character and spit into separate words\n",
        "    for word in words[:-1]: #remove the last word\n",
        "        full_text_query += f\" {word}~2 AND\" # make a fuzzy matching, just to make it work even if the spelling is wrong, the add 'AND'\n",
        "    full_text_query += f\" {words[-1]}~2\" # add the last word\n",
        "    return full_text_query.strip() #retrun word and remove extra spaces\n"
      ],
      "metadata": {
        "id": "UpiUHQkXMqEz"
      },
      "execution_count": 41,
      "outputs": []
    },
    {
      "cell_type": "code",
      "source": [
        "# print(generate_full_text_query(\"Business Intelligence\"))"
      ],
      "metadata": {
        "colab": {
          "base_uri": "https://localhost:8080/"
        },
        "id": "wGh6a_tzhhAZ",
        "outputId": "1b0d0046-099a-4310-9642-5dced014abd2"
      },
      "execution_count": 45,
      "outputs": [
        {
          "output_type": "stream",
          "name": "stdout",
          "text": [
            "Business~2 AND Intelligence~2\n"
          ]
        }
      ]
    },
    {
      "cell_type": "code",
      "source": [
        "# Fulltext index query\n",
        "def structured_retriever(question: str) -> str:\n",
        "    result = \"\"\n",
        "    entities = entity_chain.invoke({\"question\": question})\n",
        "    for entity in entities.names:\n",
        "        response = graph.query(\n",
        "            \"\"\"CALL db.index.fulltext.queryNodes('entity', $query, {limit:2})\n",
        "            YIELD node,score\n",
        "            CALL {\n",
        "              WITH node\n",
        "              MATCH (node)-[r:!MENTIONS]->(neighbor)\n",
        "              RETURN node.id + ' - ' + type(r) + ' -> ' + neighbor.id AS output\n",
        "              UNION ALL\n",
        "              WITH node\n",
        "              MATCH (node)<-[r:!MENTIONS]-(neighbor)\n",
        "              RETURN neighbor.id + ' - ' + type(r) + ' -> ' +  node.id AS output\n",
        "            }\n",
        "            RETURN output LIMIT 50\n",
        "            \"\"\",\n",
        "            {\"query\": generate_full_text_query(entity)},\n",
        "        )\n",
        "        result += \"\\n\".join([el['output'] for el in response])\n",
        "    return result"
      ],
      "metadata": {
        "id": "9r3LZrUASQBV"
      },
      "execution_count": 51,
      "outputs": []
    },
    {
      "cell_type": "code",
      "source": [
        "print(structured_retriever(\"What is Business Intelligence?\"))"
      ],
      "metadata": {
        "colab": {
          "base_uri": "https://localhost:8080/"
        },
        "id": "VRQYaPbrUOU8",
        "outputId": "1a26b591-2049-401f-f4b8-dfd7b4be8fab"
      },
      "execution_count": 52,
      "outputs": [
        {
          "output_type": "stream",
          "name": "stderr",
          "text": [
            "WARNING:neo4j.notifications:Received notification from DBMS server: {severity: WARNING} {code: Neo.ClientNotification.Statement.FeatureDeprecationWarning} {category: DEPRECATION} {title: This feature is deprecated and will be removed in future versions.} {description: CALL subquery without a variable scope clause is now deprecated. Use CALL (node, node) { ... }} {position: line: 3, column: 13, offset: 104} for query: \"CALL db.index.fulltext.queryNodes('entity', $query, {limit:2})\\n            YIELD node,score\\n            CALL {\\n              WITH node\\n              MATCH (node)-[r:!MENTIONS]->(neighbor)\\n              RETURN node.id + ' - ' + type(r) + ' -> ' + neighbor.id AS output\\n              UNION ALL\\n              WITH node\\n              MATCH (node)<-[r:!MENTIONS]-(neighbor)\\n              RETURN neighbor.id + ' - ' + type(r) + ' -> ' +  node.id AS output\\n            }\\n            RETURN output LIMIT 50\\n            \"\n"
          ]
        },
        {
          "output_type": "stream",
          "name": "stdout",
          "text": [
            "Business Intelligence - CONSISTS_OF -> Bi Technologies\n",
            "Business Intelligence - SUPPORTS -> Business Decisions\n",
            "Hans Peter Luhn - MENTIONED_IN -> Business Intelligence\n",
            "Howard Dresner - PROPOSED_DEFINITION -> Business Intelligence\n",
            "Solomon Negash - DEFINED_AS -> Business Intelligence\n",
            "Paul Gray - DEFINED_AS -> Business Intelligence\n",
            "Forrester Research - DEFINED_AS -> Business Intelligence\n",
            "Agile Business Intelligence - INTEGRATION -> Business Intelligence\n",
            "Financial Intelligence - TYPE_OF -> Business Intelligence\n",
            "Business Intelligence Software - BELONGS_TO_CATEGORY -> Data Warehouse\n",
            "Business Intelligence Software - BELONGS_TO_CATEGORY -> Spreadsheets\n",
            "Business Intelligence Software - BELONGS_TO_CATEGORY -> Reporting And Querying Software\n",
            "Business Intelligence Software - BELONGS_TO_CATEGORY -> Online Analytical Processing (Olap)\n",
            "Business Intelligence Software - BELONGS_TO_CATEGORY -> Digital Dashboards\n",
            "Business Intelligence Software - BELONGS_TO_CATEGORY -> Data Mining\n",
            "Business Intelligence Software - BELONGS_TO_CATEGORY -> Business Activity Monitoring\n",
            "Business Intelligence Software - BELONGS_TO_CATEGORY -> Local Information Systems\n",
            "Business Intelligence Software - BELONGS_TO_CATEGORY -> Data Cleansing\n",
            "Business Intelligence Software - BELONGS_TO_CATEGORY -> Enterprise Resource Planning Systems\n",
            "Business Intelligence Software - BELONGS_TO_CATEGORY -> Application Programming Interfaces\n",
            "Business Intelligence Software - BELONGS_TO_CATEGORY -> Data Warehouse Appliances\n",
            "Ibm - DEVELOPED -> Business Intelligence Software\n",
            "Siebel - DEVELOPED -> Business Intelligence Software\n"
          ]
        }
      ]
    },
    {
      "source": [
        "def retriever(question: str):\n",
        "    print(f\"Search query: {question}\")\n",
        "    structured_data = structured_retriever(question)\n",
        "    unstructured_data = [el.page_content for el in vector_index.similarity_search(question)]\n",
        "    final_data = f\"\"\"Structured data:\n",
        "{structured_data}\n",
        "Unstructured data:\n",
        "{\"#Document \". join(unstructured_data)}\n",
        "    \"\"\"\n",
        "    return final_data"
      ],
      "cell_type": "code",
      "metadata": {
        "id": "zwGkUEpJWuSm"
      },
      "execution_count": 68,
      "outputs": []
    },
    {
      "cell_type": "code",
      "source": [
        "_template = \"\"\"Given the following conversation and a follow up question, rephrase the follow up question to be a standalone question,\n",
        "in its original language.\n",
        "Chat History:\n",
        "{chat_history}\n",
        "Follow Up Input: {question}\n",
        "Standalone question:\"\"\""
      ],
      "metadata": {
        "id": "WikTUzMtVMT4"
      },
      "execution_count": 53,
      "outputs": []
    },
    {
      "cell_type": "code",
      "source": [
        "# This is used to rephrase follow-up questions into standalone questions.\n",
        "\n",
        "CONDENSE_QUESTION_PROMPT = PromptTemplate.from_template(_template)"
      ],
      "metadata": {
        "id": "HahiO3Xrq_lL"
      },
      "execution_count": 62,
      "outputs": []
    },
    {
      "cell_type": "code",
      "source": [
        "# LLMs don’t have memory by default—this function helps maintain context.\n",
        "# Ensures that follow-up questions make sense.\n",
        "def _format_chat_history(chat_history: List[Tuple[str, str]]) -> List:\n",
        "    buffer = []\n",
        "    for human, ai in chat_history:\n",
        "        buffer.append(HumanMessage(content=human))\n",
        "        buffer.append(AIMessage(content=ai))\n",
        "    return buffer"
      ],
      "metadata": {
        "id": "jF1_V5NZsGSN"
      },
      "execution_count": 63,
      "outputs": []
    },
    {
      "cell_type": "code",
      "source": [
        "\"\"\"\n",
        "  If chat history exists → The chatbot condenses the chat history + follow-up question into a standalone question.\n",
        "If no chat history exists → The chatbot directly uses the provided question.\n",
        "\"\"\"\n",
        "_search_query = RunnableBranch(\n",
        "    # If input includes chat_history, we condense it with the follow-up question\n",
        "    (\n",
        "        RunnableLambda(lambda x: bool(x.get(\"chat_history\"))).with_config(\n",
        "            run_name=\"HasChatHistoryCheck\"\n",
        "        ),  # Condense follow-up question and chat into a standalone_question\n",
        "        RunnablePassthrough.assign(\n",
        "            chat_history=lambda x: _format_chat_history(x[\"chat_history\"])\n",
        "        )\n",
        "        | CONDENSE_QUESTION_PROMPT #convert to stand alone\n",
        "        | ChatOpenAI(temperature=0) #send it to openai\n",
        "        | StrOutputParser(), # pass the output as string\n",
        "    ),\n",
        "    # Else, we have no chat history, so just pass through the question\n",
        "    RunnableLambda(lambda x : x[\"question\"]),\n",
        ")"
      ],
      "metadata": {
        "id": "BeaAweXUssxp"
      },
      "execution_count": 64,
      "outputs": []
    },
    {
      "cell_type": "code",
      "source": [
        "template = \"\"\"Answer the question based only on the following context:\n",
        "{context}\n",
        "\n",
        "Question: {question}\n",
        "Use natural language and be concise.\n",
        "Answer:\"\"\""
      ],
      "metadata": {
        "id": "wX7eP8grsuSp"
      },
      "execution_count": 65,
      "outputs": []
    },
    {
      "cell_type": "code",
      "source": [
        "prompt = ChatPromptTemplate.from_template(template) #insert into langchain and Allows dynamic insertion of context and question variables.\n"
      ],
      "metadata": {
        "id": "Jj4v1NAOt10q"
      },
      "execution_count": 70,
      "outputs": []
    },
    {
      "cell_type": "code",
      "source": [
        "# Retriever and generation chain\n",
        "chain = (\n",
        "    RunnableParallel(\n",
        "        {\n",
        "            \"context\": _search_query | retriever,  # get the context from retrieval sytem\n",
        "            \"question\": RunnablePassthrough(), # pass user original question\n",
        "        }\n",
        "    )\n",
        "    | prompt\n",
        "    | llm\n",
        "    | StrOutputParser()\n",
        ")"
      ],
      "metadata": {
        "id": "fcvLsxuVt89Z"
      },
      "execution_count": 71,
      "outputs": []
    },
    {
      "cell_type": "code",
      "source": [
        "chain.invoke({\"question\": \"Which tools are used in busineess intelligence?\"})"
      ],
      "metadata": {
        "colab": {
          "base_uri": "https://localhost:8080/",
          "height": 147
        },
        "id": "VzsGoj9buBPZ",
        "outputId": "5ce96db3-4819-4c0c-cf13-bffbff1a9aa2"
      },
      "execution_count": 73,
      "outputs": [
        {
          "output_type": "stream",
          "name": "stdout",
          "text": [
            "Search query: Which tools are used in busineess intelligence?\n"
          ]
        },
        {
          "output_type": "stream",
          "name": "stderr",
          "text": [
            "WARNING:neo4j.notifications:Received notification from DBMS server: {severity: WARNING} {code: Neo.ClientNotification.Statement.FeatureDeprecationWarning} {category: DEPRECATION} {title: This feature is deprecated and will be removed in future versions.} {description: CALL subquery without a variable scope clause is now deprecated. Use CALL (node, node) { ... }} {position: line: 3, column: 13, offset: 104} for query: \"CALL db.index.fulltext.queryNodes('entity', $query, {limit:2})\\n            YIELD node,score\\n            CALL {\\n              WITH node\\n              MATCH (node)-[r:!MENTIONS]->(neighbor)\\n              RETURN node.id + ' - ' + type(r) + ' -> ' + neighbor.id AS output\\n              UNION ALL\\n              WITH node\\n              MATCH (node)<-[r:!MENTIONS]-(neighbor)\\n              RETURN neighbor.id + ' - ' + type(r) + ' -> ' +  node.id AS output\\n            }\\n            RETURN output LIMIT 50\\n            \"\n",
            "WARNING:neo4j.notifications:Received notification from DBMS server: {severity: WARNING} {code: Neo.ClientNotification.Statement.FeatureDeprecationWarning} {category: DEPRECATION} {title: This feature is deprecated and will be removed in future versions.} {description: CALL subquery without a variable scope clause is now deprecated. Use CALL (node, node) { ... }} {position: line: 3, column: 13, offset: 104} for query: \"CALL db.index.fulltext.queryNodes('entity', $query, {limit:2})\\n            YIELD node,score\\n            CALL {\\n              WITH node\\n              MATCH (node)-[r:!MENTIONS]->(neighbor)\\n              RETURN node.id + ' - ' + type(r) + ' -> ' + neighbor.id AS output\\n              UNION ALL\\n              WITH node\\n              MATCH (node)<-[r:!MENTIONS]-(neighbor)\\n              RETURN neighbor.id + ' - ' + type(r) + ' -> ' +  node.id AS output\\n            }\\n            RETURN output LIMIT 50\\n            \"\n",
            "WARNING:neo4j.notifications:Received notification from DBMS server: {severity: WARNING} {code: Neo.ClientNotification.Statement.FeatureDeprecationWarning} {category: DEPRECATION} {title: This feature is deprecated and will be removed in future versions.} {description: CALL subquery without a variable scope clause is now deprecated. Use CALL () { ... }} {position: line: 1, column: 1, offset: 0} for query: \"CALL { CALL db.index.vector.queryNodes($index, $k, $embedding) YIELD node, score WITH collect({node:node, score:score}) AS nodes, max(score) AS max UNWIND nodes AS n RETURN n.node AS node, (n.score / max) AS score UNION CALL db.index.fulltext.queryNodes($keyword_index, $query, {limit: $k}) YIELD node, score WITH collect({node:node, score:score}) AS nodes, max(score) AS max UNWIND nodes AS n RETURN n.node AS node, (n.score / max) AS score } WITH node, max(score) AS score ORDER BY score DESC LIMIT $k RETURN reduce(str='', k IN ['text'] | str + '\\\\n' + k + ': ' + coalesce(node[k], '')) AS text, node {.*, `embedding`: Null, id: Null, `text`: Null} AS metadata, score\"\n"
          ]
        },
        {
          "output_type": "execute_result",
          "data": {
            "text/plain": [
              "'Spreadsheets, reporting and querying software, online analytical processing (OLAP), digital dashboards, data mining, business activity monitoring, data warehouse, local information systems, data cleansing.'"
            ],
            "application/vnd.google.colaboratory.intrinsic+json": {
              "type": "string"
            }
          },
          "metadata": {},
          "execution_count": 73
        }
      ]
    },
    {
      "cell_type": "code",
      "source": [
        "chain.invoke(\n",
        "    {\n",
        "        \"question\": \"what is OLAP?\",\n",
        "        \"chat_history\": [(\"Which tools are used in busineess intelligence?\", \"Spreadsheets, reporting and querying software, online analytical processing (OLAP), digital dashboards, data mining, business activity monitoring, data warehouse, local information systems, data cleansing\")],\n",
        "    }\n",
        ")"
      ],
      "metadata": {
        "colab": {
          "base_uri": "https://localhost:8080/",
          "height": 110
        },
        "id": "UTDCAEnGvH76",
        "outputId": "f284f1ee-37fb-40f0-c87b-f81526637e72"
      },
      "execution_count": 74,
      "outputs": [
        {
          "output_type": "stream",
          "name": "stdout",
          "text": [
            "Search query: What is OLAP?\n"
          ]
        },
        {
          "output_type": "stream",
          "name": "stderr",
          "text": [
            "WARNING:neo4j.notifications:Received notification from DBMS server: {severity: WARNING} {code: Neo.ClientNotification.Statement.FeatureDeprecationWarning} {category: DEPRECATION} {title: This feature is deprecated and will be removed in future versions.} {description: CALL subquery without a variable scope clause is now deprecated. Use CALL (node, node) { ... }} {position: line: 3, column: 13, offset: 104} for query: \"CALL db.index.fulltext.queryNodes('entity', $query, {limit:2})\\n            YIELD node,score\\n            CALL {\\n              WITH node\\n              MATCH (node)-[r:!MENTIONS]->(neighbor)\\n              RETURN node.id + ' - ' + type(r) + ' -> ' + neighbor.id AS output\\n              UNION ALL\\n              WITH node\\n              MATCH (node)<-[r:!MENTIONS]-(neighbor)\\n              RETURN neighbor.id + ' - ' + type(r) + ' -> ' +  node.id AS output\\n            }\\n            RETURN output LIMIT 50\\n            \"\n",
            "WARNING:neo4j.notifications:Received notification from DBMS server: {severity: WARNING} {code: Neo.ClientNotification.Statement.FeatureDeprecationWarning} {category: DEPRECATION} {title: This feature is deprecated and will be removed in future versions.} {description: CALL subquery without a variable scope clause is now deprecated. Use CALL () { ... }} {position: line: 1, column: 1, offset: 0} for query: \"CALL { CALL db.index.vector.queryNodes($index, $k, $embedding) YIELD node, score WITH collect({node:node, score:score}) AS nodes, max(score) AS max UNWIND nodes AS n RETURN n.node AS node, (n.score / max) AS score UNION CALL db.index.fulltext.queryNodes($keyword_index, $query, {limit: $k}) YIELD node, score WITH collect({node:node, score:score}) AS nodes, max(score) AS max UNWIND nodes AS n RETURN n.node AS node, (n.score / max) AS score } WITH node, max(score) AS score ORDER BY score DESC LIMIT $k RETURN reduce(str='', k IN ['text'] | str + '\\\\n' + k + ': ' + coalesce(node[k], '')) AS text, node {.*, `embedding`: Null, id: Null, `text`: Null} AS metadata, score\"\n"
          ]
        },
        {
          "output_type": "execute_result",
          "data": {
            "text/plain": [
              "'OLAP stands for Online Analytical Processing and is a key tool used in business intelligence for analyzing and reporting data.'"
            ],
            "application/vnd.google.colaboratory.intrinsic+json": {
              "type": "string"
            }
          },
          "metadata": {},
          "execution_count": 74
        }
      ]
    },
    {
      "cell_type": "code",
      "source": [],
      "metadata": {
        "id": "7FoUr60ov9T9"
      },
      "execution_count": null,
      "outputs": []
    }
  ]
}